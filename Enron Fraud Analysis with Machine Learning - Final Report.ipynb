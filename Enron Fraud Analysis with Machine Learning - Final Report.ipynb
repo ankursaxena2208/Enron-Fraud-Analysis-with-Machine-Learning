{
 "cells": [
  {
   "cell_type": "markdown",
   "metadata": {},
   "source": [
    "# Enron Scandal: The smartest guys in the room?\n",
    "\n",
    "## Author: Sagarnil Das\n",
    "## Date: 28th June, 2017\n",
    "\n",
    "Enron, a multibillion dollar company in the heart of the Wall Street was one of the largest companies in the United States in 2000. By 2002, it collapsed into bankruptcy due to widespread corporate fraud. They reached a dizzying height only to face a plummeting collapse. The bankruptcy of Enron affected thousands of its employees and shook the whole Wall Street by its foundation. In the federal investigation that followed, all the emails from Enron employees were made public. Since then these emails have spreaded like a wildfire through the world and many analysis and investigations have been done on this data. In this project, my target is to build a ** Person of Interest ** identifier/Label and try to build a Machine Learning Algorithm to predict the possible Persons of Interest based on various features."
   ]
  },
  {
   "cell_type": "markdown",
   "metadata": {},
   "source": [
    "## Initial Preparation/Importing Libraries"
   ]
  },
  {
   "cell_type": "code",
   "execution_count": 57,
   "metadata": {},
   "outputs": [],
   "source": [
    "import matplotlib.pyplot as plt\n",
    "import sys\n",
    "import pickle\n",
    "import pandas as pd\n",
    "import numpy as np\n",
    "from sklearn.feature_selection import SelectKBest\n",
    "from sklearn import preprocessing\n",
    "from sklearn import cross_validation\n",
    "from sklearn.tree import DecisionTreeClassifier\n",
    "from sklearn.ensemble import AdaBoostClassifier\n",
    "from sklearn.ensemble import RandomForestClassifier\n",
    "from sklearn.neighbors import KNeighborsClassifier\n",
    "from sklearn.svm import SVC\n",
    "from sklearn.naive_bayes import GaussianNB\n",
    "from time import time\n",
    "from sklearn.metrics import accuracy_score\n",
    "from sklearn.metrics import precision_score\n",
    "from sklearn.metrics import recall_score\n",
    "from sklearn.grid_search import GridSearchCV\n",
    "sys.path.append(\"../tools/\")\n",
    "from feature_format import featureFormat, targetFeatureSplit\n",
    "from tester import dump_classifier_and_data\n",
    "import pprint\n",
    "import warnings\n",
    "warnings.filterwarnings('ignore')"
   ]
  },
  {
   "cell_type": "markdown",
   "metadata": {},
   "source": [
    "## Create Features list and Import necessary files"
   ]
  },
  {
   "cell_type": "code",
   "execution_count": 5,
   "metadata": {
    "collapsed": true
   },
   "outputs": [],
   "source": [
    "features_list = ['poi', 'salary', 'to_messages', 'deferral_payments', 'total_payments',\n",
    "                 'loan_advances', 'bonus', 'restricted_stock_deferred',\n",
    "                 'deferred_income', 'total_stock_value', 'expenses', 'from_poi_to_this_person',\n",
    "                 'exercised_stock_options', 'from_messages', 'other', 'from_this_person_to_poi',\n",
    "                 'long_term_incentive', 'shared_receipt_with_poi', 'restricted_stock', 'director_fees']\n",
    "\n",
    "### Load the dictionary containing the dataset\n",
    "with open(\"final_project_dataset.pkl\", \"r\") as data_file:\n",
    "    data_dict = pickle.load(data_file)"
   ]
  },
  {
   "cell_type": "markdown",
   "metadata": {},
   "source": [
    "## Initial data exploration"
   ]
  },
  {
   "cell_type": "code",
   "execution_count": 6,
   "metadata": {},
   "outputs": [
    {
     "name": "stdout",
     "output_type": "stream",
     "text": [
      "{'bonus': 5600000,\n",
      " 'deferral_payments': 'NaN',\n",
      " 'deferred_income': 'NaN',\n",
      " 'director_fees': 'NaN',\n",
      " 'email_address': 'jeff.skilling@enron.com',\n",
      " 'exercised_stock_options': 19250000,\n",
      " 'expenses': 29336,\n",
      " 'from_messages': 108,\n",
      " 'from_poi_to_this_person': 88,\n",
      " 'from_this_person_to_poi': 30,\n",
      " 'loan_advances': 'NaN',\n",
      " 'long_term_incentive': 1920000,\n",
      " 'other': 22122,\n",
      " 'poi': True,\n",
      " 'restricted_stock': 6843672,\n",
      " 'restricted_stock_deferred': 'NaN',\n",
      " 'salary': 1111258,\n",
      " 'shared_receipt_with_poi': 2042,\n",
      " 'to_messages': 3627,\n",
      " 'total_payments': 8682716,\n",
      " 'total_stock_value': 26093672}\n",
      "Total number of people in the dataset: 146\n",
      "Total number of features in the dataset: 21\n",
      "Number of POIs in the dataset: 18\n"
     ]
    }
   ],
   "source": [
    "#Sample data for one of the Top executives - Jeffrey Skilling\n",
    "pprint.pprint(data_dict[\"SKILLING JEFFREY K\"])\n",
    "\n",
    "#Number of people in the datasets\n",
    "\n",
    "print \"Total number of people in the dataset: \" + str(len(data_dict))\n",
    "\n",
    "#Number of features available in the dataset\n",
    "\n",
    "print \"Total number of features in the dataset: \" + str(len(data_dict[\"SKILLING JEFFREY K\"]))\n",
    "\n",
    "#Number of POIs in the dataset\n",
    "\n",
    "def poi_count(file):\n",
    "    count = 0\n",
    "    for data in file:\n",
    "        if file[data]['poi'] == True:\n",
    "            count += 1\n",
    "    print \"Number of POIs in the dataset: \" + str(count)\n",
    "\n",
    "poi_count(data_dict)\n"
   ]
  },
  {
   "cell_type": "markdown",
   "metadata": {},
   "source": [
    "## Detect outliers and remove them\n",
    "\n",
    "Now we will consider a few features where having outliers can significantly affect our whole analysis. We will analyze these outliers to see whether they should be there or we can remove them to make our analysis more robust."
   ]
  },
  {
   "cell_type": "code",
   "execution_count": 11,
   "metadata": {},
   "outputs": [
    {
     "name": "stdout",
     "output_type": "stream",
     "text": [
      "97343619.0\n"
     ]
    },
    {
     "data": {
      "image/png": "[encoded data removed]",
      "text/plain": [
       "<matplotlib.figure.Figure at 0xc723b70>"
      ]
     },
     "metadata": {},
     "output_type": "display_data"
    }
   ],
   "source": [
    "features = [\"bonus\",\"salary\"]\n",
    "data = featureFormat(data_dict, features)\n",
    "print(data.max())\n",
    "\n",
    "for point in data:\n",
    "    bonus = point[0]\n",
    "    salary = point[1]\n",
    "    plt.scatter( bonus, salary )\n",
    "\n",
    "plt.xlabel(\"bonus\")\n",
    "plt.ylabel(\"salary\")\n",
    "plt.show()"
   ]
  },
  {
   "cell_type": "markdown",
   "metadata": {},
   "source": [
    "WOW! That's a huge outlier right there in the upper right corner! In fact it is so big that it is making all the other points insignificant in scale. So what's going on over there? Looking at the dataset, we see it is an excel artifact which calculated the ** TOTAL ** value or the sum. So it should be removed. Another point which should be removed is ** THE TRAVEL AGENCY IN THE PARK **. Both of these values does not belong to any individual and thus not significant for our analysis. We also try to find out who got the maximum salary and the maximum bonus."
   ]
  },
  {
   "cell_type": "markdown",
   "metadata": {},
   "source": [
    "## Maximum Salary"
   ]
  },
  {
   "cell_type": "code",
   "execution_count": 13,
   "metadata": {},
   "outputs": [
    {
     "name": "stdout",
     "output_type": "stream",
     "text": [
      "[('TOTAL', 26704229), ('SKILLING JEFFREY K', 1111258)]\n"
     ]
    }
   ],
   "source": [
    "outliers_salary = []\n",
    "for key in data_dict:\n",
    "    val = data_dict[key]['salary']\n",
    "    if val == 'NaN':\n",
    "        continue\n",
    "    outliers_salary.append((key,int(val)))\n",
    "\n",
    "pprint.pprint(sorted(outliers_salary,key=lambda x:x[1],reverse=True)[:2])"
   ]
  },
  {
   "cell_type": "markdown",
   "metadata": {},
   "source": [
    "## Maximum Bonus"
   ]
  },
  {
   "cell_type": "code",
   "execution_count": 14,
   "metadata": {},
   "outputs": [
    {
     "name": "stdout",
     "output_type": "stream",
     "text": [
      "[('TOTAL', 97343619), ('LAVORATO JOHN J', 8000000)]\n"
     ]
    }
   ],
   "source": [
    "from pprint import pprint\n",
    "outliers_bonus = []\n",
    "for key in data_dict:\n",
    "    val = data_dict[key]['bonus']\n",
    "    if val == 'NaN':\n",
    "        continue\n",
    "    outliers_bonus.append((key,int(val)))\n",
    "\n",
    "pprint(sorted(outliers_bonus,key=lambda x:x[1],reverse=True)[:2])"
   ]
  },
  {
   "cell_type": "markdown",
   "metadata": {},
   "source": [
    "Thats's some insane amount of money right there!"
   ]
  },
  {
   "cell_type": "markdown",
   "metadata": {},
   "source": [
    "## Removing Total and Travel Agency in the Park outliers"
   ]
  },
  {
   "cell_type": "code",
   "execution_count": 15,
   "metadata": {},
   "outputs": [
    {
     "data": {
      "text/plain": [
       "{'bonus': 'NaN',\n",
       " 'deferral_payments': 'NaN',\n",
       " 'deferred_income': 'NaN',\n",
       " 'director_fees': 'NaN',\n",
       " 'email_address': 'NaN',\n",
       " 'exercised_stock_options': 'NaN',\n",
       " 'expenses': 'NaN',\n",
       " 'from_messages': 'NaN',\n",
       " 'from_poi_to_this_person': 'NaN',\n",
       " 'from_this_person_to_poi': 'NaN',\n",
       " 'loan_advances': 'NaN',\n",
       " 'long_term_incentive': 'NaN',\n",
       " 'other': 362096,\n",
       " 'poi': False,\n",
       " 'restricted_stock': 'NaN',\n",
       " 'restricted_stock_deferred': 'NaN',\n",
       " 'salary': 'NaN',\n",
       " 'shared_receipt_with_poi': 'NaN',\n",
       " 'to_messages': 'NaN',\n",
       " 'total_payments': 362096,\n",
       " 'total_stock_value': 'NaN'}"
      ]
     },
     "execution_count": 15,
     "metadata": {},
     "output_type": "execute_result"
    }
   ],
   "source": [
    "data_dict.pop('TOTAL',0)\n",
    "data_dict.pop('THE TRAVEL AGENCY IN THE PARK',0)"
   ]
  },
  {
   "cell_type": "markdown",
   "metadata": {},
   "source": [
    "## Plotting after outlier removal\n",
    "\n",
    "We will try to plot the same plot. Now that we have removed the huge outliers, we should expect to see something much different than what we saw before.\n"
   ]
  },
  {
   "cell_type": "code",
   "execution_count": 43,
   "metadata": {},
   "outputs": [
    {
     "data": {
      "image/png": "[encoded data removed]",
      "text/plain": [
       "<matplotlib.figure.Figure at 0xdd0f6a0>"
      ]
     },
     "metadata": {},
     "output_type": "display_data"
    }
   ],
   "source": [
    "my_dataset = data_dict\n",
    "my_feature_list = features_list\n",
    "data = featureFormat(data_dict, features)\n",
    "for point in data:\n",
    "    salary = point[0]\n",
    "    bonus = point[1]\n",
    "    plt.scatter( salary, bonus )\n",
    "\n",
    "\n",
    "plt.xlabel(\"salary\")\n",
    "plt.ylabel(\"bonus\")\n",
    "plt.show()"
   ]
  },
  {
   "cell_type": "markdown",
   "metadata": {},
   "source": [
    "## Investigating emails from and to a Person of Interest\n",
    "\n",
    "Now we will investigate from_this_person_to_poi and from_poi_to_this_person for any outliers as they are important features"
   ]
  },
  {
   "cell_type": "code",
   "execution_count": 44,
   "metadata": {},
   "outputs": [
    {
     "name": "stdout",
     "output_type": "stream",
     "text": [
      "609.0\n"
     ]
    },
    {
     "data": {
      "image/png": "[encoded data removed]",
      "text/plain": [
       "<matplotlib.figure.Figure at 0xeb75588>"
      ]
     },
     "metadata": {},
     "output_type": "display_data"
    }
   ],
   "source": [
    "features = [\"from_this_person_to_poi\", \"from_poi_to_this_person\"]\n",
    "data = featureFormat(data_dict, features)\n",
    "\n",
    "print data.max()\n",
    "#Plotting the graph\n",
    "for point in data:\n",
    "    from_this_person_to_poi = point[0]\n",
    "    from_poi_to_this_person = point[1]\n",
    "    plt.scatter( from_this_person_to_poi, from_poi_to_this_person )\n",
    "\n",
    "plt.xlabel(\"from_this_person_to_poi\")\n",
    "plt.ylabel(\"from_poi_to_this_person\")\n",
    "plt.show()\n"
   ]
  },
  {
   "cell_type": "markdown",
   "metadata": {},
   "source": [
    "Here we see a few outliers. But on investigation, I found out that they are real persons and not data error. So I am going to keep them in the dataset"
   ]
  },
  {
   "cell_type": "markdown",
   "metadata": {},
   "source": [
    "## Dealing with 'NaN' values"
   ]
  },
  {
   "cell_type": "code",
   "execution_count": 45,
   "metadata": {},
   "outputs": [
    {
     "name": "stdout",
     "output_type": "stream",
     "text": [
      "bonus                         63\n",
      "deferral_payments            106\n",
      "deferred_income               96\n",
      "director_fees                128\n",
      "email_address                 33\n",
      "exercised_stock_options       43\n",
      "expenses                      50\n",
      "from_messages                 58\n",
      "from_poi_to_this_person       58\n",
      "from_this_person_to_poi       58\n",
      "loan_advances                141\n",
      "long_term_incentive           79\n",
      "other                         53\n",
      "poi                            0\n",
      "restricted_stock              35\n",
      "restricted_stock_deferred    127\n",
      "salary                        50\n",
      "shared_receipt_with_poi       58\n",
      "to_messages                   58\n",
      "total_payments                21\n",
      "total_stock_value             19\n",
      "dtype: int64\n",
      "(144, 21)\n",
      "bonus                        0\n",
      "deferral_payments            0\n",
      "deferred_income              0\n",
      "director_fees                0\n",
      "email_address                0\n",
      "exercised_stock_options      0\n",
      "expenses                     0\n",
      "from_messages                0\n",
      "from_poi_to_this_person      0\n",
      "from_this_person_to_poi      0\n",
      "loan_advances                0\n",
      "long_term_incentive          0\n",
      "other                        0\n",
      "poi                          0\n",
      "restricted_stock             0\n",
      "restricted_stock_deferred    0\n",
      "salary                       0\n",
      "shared_receipt_with_poi      0\n",
      "to_messages                  0\n",
      "total_payments               0\n",
      "total_stock_value            0\n",
      "dtype: int64\n",
      "       bonus  deferral_payments  deferred_income  director_fees  \\\n",
      "0   600000.0                0.0              0.0            0.0   \n",
      "1  1200000.0          1295738.0       -1386055.0            0.0   \n",
      "2   350000.0                0.0        -400729.0            0.0   \n",
      "3        0.0                0.0              0.0            0.0   \n",
      "4  1500000.0                0.0       -3117011.0            0.0   \n",
      "\n",
      "              email_address  exercised_stock_options  expenses  from_messages  \\\n",
      "0      mark.metts@enron.com                      0.0   94299.0           29.0   \n",
      "1                         0                6680544.0   11200.0            0.0   \n",
      "2  steven.elliott@enron.com                4890344.0   78552.0            0.0   \n",
      "3     bill.cordes@enron.com                 651850.0       0.0           12.0   \n",
      "4    kevin.hannon@enron.com                5538001.0   34039.0           32.0   \n",
      "\n",
      "   from_poi_to_this_person  from_this_person_to_poi        ...          \\\n",
      "0                     38.0                      1.0        ...           \n",
      "1                      0.0                      0.0        ...           \n",
      "2                      0.0                      0.0        ...           \n",
      "3                     10.0                      0.0        ...           \n",
      "4                     32.0                     21.0        ...           \n",
      "\n",
      "   long_term_incentive      other    poi  restricted_stock  \\\n",
      "0                  0.0     1740.0  False          585062.0   \n",
      "1            1586055.0  2660303.0  False         3942714.0   \n",
      "2                  0.0    12961.0  False         1788391.0   \n",
      "3                  0.0        0.0  False          386335.0   \n",
      "4            1617011.0    11350.0   True          853064.0   \n",
      "\n",
      "   restricted_stock_deferred    salary  shared_receipt_with_poi  to_messages  \\\n",
      "0                        0.0  365788.0                    702.0        807.0   \n",
      "1                        0.0  267102.0                      0.0          0.0   \n",
      "2                        0.0  170941.0                      0.0          0.0   \n",
      "3                        0.0       0.0                     58.0        764.0   \n",
      "4                        0.0  243293.0                   1035.0       1045.0   \n",
      "\n",
      "   total_payments  total_stock_value  \n",
      "0       1061827.0           585062.0  \n",
      "1       5634343.0         10623258.0  \n",
      "2        211725.0          6678735.0  \n",
      "3             0.0          1038185.0  \n",
      "4        288682.0          6391065.0  \n",
      "\n",
      "[5 rows x 21 columns]\n"
     ]
    },
    {
     "data": {
      "text/html": [
       "<div>\n",
       "<style>\n",
       "    .dataframe thead tr:only-child th {\n",
       "        text-align: right;\n",
       "    }\n",
       "\n",
       "    .dataframe thead th {\n",
       "        text-align: left;\n",
       "    }\n",
       "\n",
       "    .dataframe tbody tr th {\n",
       "        vertical-align: top;\n",
       "    }\n",
       "</style>\n",
       "<table border=\"1\" class=\"dataframe\">\n",
       "  <thead>\n",
       "    <tr style=\"text-align: right;\">\n",
       "      <th></th>\n",
       "      <th>bonus</th>\n",
       "      <th>deferral_payments</th>\n",
       "      <th>deferred_income</th>\n",
       "      <th>director_fees</th>\n",
       "      <th>exercised_stock_options</th>\n",
       "      <th>expenses</th>\n",
       "      <th>from_messages</th>\n",
       "      <th>from_poi_to_this_person</th>\n",
       "      <th>from_this_person_to_poi</th>\n",
       "      <th>loan_advances</th>\n",
       "      <th>long_term_incentive</th>\n",
       "      <th>other</th>\n",
       "      <th>restricted_stock</th>\n",
       "      <th>restricted_stock_deferred</th>\n",
       "      <th>salary</th>\n",
       "      <th>shared_receipt_with_poi</th>\n",
       "      <th>to_messages</th>\n",
       "      <th>total_payments</th>\n",
       "      <th>total_stock_value</th>\n",
       "    </tr>\n",
       "  </thead>\n",
       "  <tbody>\n",
       "    <tr>\n",
       "      <th>count</th>\n",
       "      <td>1.440000e+02</td>\n",
       "      <td>1.440000e+02</td>\n",
       "      <td>1.440000e+02</td>\n",
       "      <td>144.000000</td>\n",
       "      <td>1.440000e+02</td>\n",
       "      <td>144.000000</td>\n",
       "      <td>144.000000</td>\n",
       "      <td>144.000000</td>\n",
       "      <td>144.000000</td>\n",
       "      <td>1.440000e+02</td>\n",
       "      <td>1.440000e+02</td>\n",
       "      <td>1.440000e+02</td>\n",
       "      <td>1.440000e+02</td>\n",
       "      <td>1.440000e+02</td>\n",
       "      <td>1.440000e+02</td>\n",
       "      <td>144.000000</td>\n",
       "      <td>144.000000</td>\n",
       "      <td>1.440000e+02</td>\n",
       "      <td>1.440000e+02</td>\n",
       "    </tr>\n",
       "    <tr>\n",
       "      <th>mean</th>\n",
       "      <td>6.759974e+05</td>\n",
       "      <td>2.220896e+05</td>\n",
       "      <td>-1.936833e+05</td>\n",
       "      <td>9980.319444</td>\n",
       "      <td>2.075802e+06</td>\n",
       "      <td>35375.340278</td>\n",
       "      <td>363.583333</td>\n",
       "      <td>38.756944</td>\n",
       "      <td>24.625000</td>\n",
       "      <td>5.828125e+05</td>\n",
       "      <td>3.369578e+05</td>\n",
       "      <td>2.947455e+05</td>\n",
       "      <td>8.685363e+05</td>\n",
       "      <td>7.341790e+04</td>\n",
       "      <td>1.854460e+05</td>\n",
       "      <td>702.611111</td>\n",
       "      <td>1238.555556</td>\n",
       "      <td>2.256543e+06</td>\n",
       "      <td>2.909786e+06</td>\n",
       "    </tr>\n",
       "    <tr>\n",
       "      <th>std</th>\n",
       "      <td>1.233155e+06</td>\n",
       "      <td>7.541013e+05</td>\n",
       "      <td>6.060111e+05</td>\n",
       "      <td>31300.575144</td>\n",
       "      <td>4.795513e+06</td>\n",
       "      <td>45309.303038</td>\n",
       "      <td>1450.675239</td>\n",
       "      <td>74.276769</td>\n",
       "      <td>79.778266</td>\n",
       "      <td>6.794472e+06</td>\n",
       "      <td>6.871826e+05</td>\n",
       "      <td>1.131325e+06</td>\n",
       "      <td>2.016572e+06</td>\n",
       "      <td>1.301983e+06</td>\n",
       "      <td>1.970421e+05</td>\n",
       "      <td>1077.290736</td>\n",
       "      <td>2237.564816</td>\n",
       "      <td>8.847189e+06</td>\n",
       "      <td>6.189018e+06</td>\n",
       "    </tr>\n",
       "    <tr>\n",
       "      <th>min</th>\n",
       "      <td>0.000000e+00</td>\n",
       "      <td>-1.025000e+05</td>\n",
       "      <td>-3.504386e+06</td>\n",
       "      <td>0.000000</td>\n",
       "      <td>0.000000e+00</td>\n",
       "      <td>0.000000</td>\n",
       "      <td>0.000000</td>\n",
       "      <td>0.000000</td>\n",
       "      <td>0.000000</td>\n",
       "      <td>0.000000e+00</td>\n",
       "      <td>0.000000e+00</td>\n",
       "      <td>0.000000e+00</td>\n",
       "      <td>-2.604490e+06</td>\n",
       "      <td>-1.787380e+06</td>\n",
       "      <td>0.000000e+00</td>\n",
       "      <td>0.000000</td>\n",
       "      <td>0.000000</td>\n",
       "      <td>0.000000e+00</td>\n",
       "      <td>-4.409300e+04</td>\n",
       "    </tr>\n",
       "    <tr>\n",
       "      <th>25%</th>\n",
       "      <td>0.000000e+00</td>\n",
       "      <td>0.000000e+00</td>\n",
       "      <td>-3.708600e+04</td>\n",
       "      <td>0.000000</td>\n",
       "      <td>0.000000e+00</td>\n",
       "      <td>0.000000</td>\n",
       "      <td>0.000000</td>\n",
       "      <td>0.000000</td>\n",
       "      <td>0.000000</td>\n",
       "      <td>0.000000e+00</td>\n",
       "      <td>0.000000e+00</td>\n",
       "      <td>0.000000e+00</td>\n",
       "      <td>2.434500e+04</td>\n",
       "      <td>0.000000e+00</td>\n",
       "      <td>0.000000e+00</td>\n",
       "      <td>0.000000</td>\n",
       "      <td>0.000000</td>\n",
       "      <td>9.019275e+04</td>\n",
       "      <td>2.443265e+05</td>\n",
       "    </tr>\n",
       "    <tr>\n",
       "      <th>50%</th>\n",
       "      <td>3.000000e+05</td>\n",
       "      <td>0.000000e+00</td>\n",
       "      <td>0.000000e+00</td>\n",
       "      <td>0.000000</td>\n",
       "      <td>6.082935e+05</td>\n",
       "      <td>20182.000000</td>\n",
       "      <td>17.500000</td>\n",
       "      <td>4.000000</td>\n",
       "      <td>0.000000</td>\n",
       "      <td>0.000000e+00</td>\n",
       "      <td>0.000000e+00</td>\n",
       "      <td>9.190000e+02</td>\n",
       "      <td>3.605280e+05</td>\n",
       "      <td>0.000000e+00</td>\n",
       "      <td>2.105960e+05</td>\n",
       "      <td>114.000000</td>\n",
       "      <td>347.500000</td>\n",
       "      <td>9.413595e+05</td>\n",
       "      <td>9.659550e+05</td>\n",
       "    </tr>\n",
       "    <tr>\n",
       "      <th>75%</th>\n",
       "      <td>8.000000e+05</td>\n",
       "      <td>8.535500e+03</td>\n",
       "      <td>0.000000e+00</td>\n",
       "      <td>0.000000</td>\n",
       "      <td>1.683580e+06</td>\n",
       "      <td>53328.250000</td>\n",
       "      <td>53.000000</td>\n",
       "      <td>41.250000</td>\n",
       "      <td>14.000000</td>\n",
       "      <td>0.000000e+00</td>\n",
       "      <td>3.745862e+05</td>\n",
       "      <td>1.485770e+05</td>\n",
       "      <td>7.374560e+05</td>\n",
       "      <td>0.000000e+00</td>\n",
       "      <td>2.696675e+05</td>\n",
       "      <td>933.750000</td>\n",
       "      <td>1623.000000</td>\n",
       "      <td>1.945668e+06</td>\n",
       "      <td>2.295176e+06</td>\n",
       "    </tr>\n",
       "    <tr>\n",
       "      <th>max</th>\n",
       "      <td>8.000000e+06</td>\n",
       "      <td>6.426990e+06</td>\n",
       "      <td>0.000000e+00</td>\n",
       "      <td>137864.000000</td>\n",
       "      <td>3.434838e+07</td>\n",
       "      <td>228763.000000</td>\n",
       "      <td>14368.000000</td>\n",
       "      <td>528.000000</td>\n",
       "      <td>609.000000</td>\n",
       "      <td>8.152500e+07</td>\n",
       "      <td>5.145434e+06</td>\n",
       "      <td>1.035973e+07</td>\n",
       "      <td>1.476169e+07</td>\n",
       "      <td>1.545629e+07</td>\n",
       "      <td>1.111258e+06</td>\n",
       "      <td>5521.000000</td>\n",
       "      <td>15149.000000</td>\n",
       "      <td>1.035598e+08</td>\n",
       "      <td>4.911008e+07</td>\n",
       "    </tr>\n",
       "  </tbody>\n",
       "</table>\n",
       "</div>"
      ],
      "text/plain": [
       "              bonus  deferral_payments  deferred_income  director_fees  \\\n",
       "count  1.440000e+02       1.440000e+02     1.440000e+02     144.000000   \n",
       "mean   6.759974e+05       2.220896e+05    -1.936833e+05    9980.319444   \n",
       "std    1.233155e+06       7.541013e+05     6.060111e+05   31300.575144   \n",
       "min    0.000000e+00      -1.025000e+05    -3.504386e+06       0.000000   \n",
       "25%    0.000000e+00       0.000000e+00    -3.708600e+04       0.000000   \n",
       "50%    3.000000e+05       0.000000e+00     0.000000e+00       0.000000   \n",
       "75%    8.000000e+05       8.535500e+03     0.000000e+00       0.000000   \n",
       "max    8.000000e+06       6.426990e+06     0.000000e+00  137864.000000   \n",
       "\n",
       "       exercised_stock_options       expenses  from_messages  \\\n",
       "count             1.440000e+02     144.000000     144.000000   \n",
       "mean              2.075802e+06   35375.340278     363.583333   \n",
       "std               4.795513e+06   45309.303038    1450.675239   \n",
       "min               0.000000e+00       0.000000       0.000000   \n",
       "25%               0.000000e+00       0.000000       0.000000   \n",
       "50%               6.082935e+05   20182.000000      17.500000   \n",
       "75%               1.683580e+06   53328.250000      53.000000   \n",
       "max               3.434838e+07  228763.000000   14368.000000   \n",
       "\n",
       "       from_poi_to_this_person  from_this_person_to_poi  loan_advances  \\\n",
       "count               144.000000               144.000000   1.440000e+02   \n",
       "mean                 38.756944                24.625000   5.828125e+05   \n",
       "std                  74.276769                79.778266   6.794472e+06   \n",
       "min                   0.000000                 0.000000   0.000000e+00   \n",
       "25%                   0.000000                 0.000000   0.000000e+00   \n",
       "50%                   4.000000                 0.000000   0.000000e+00   \n",
       "75%                  41.250000                14.000000   0.000000e+00   \n",
       "max                 528.000000               609.000000   8.152500e+07   \n",
       "\n",
       "       long_term_incentive         other  restricted_stock  \\\n",
       "count         1.440000e+02  1.440000e+02      1.440000e+02   \n",
       "mean          3.369578e+05  2.947455e+05      8.685363e+05   \n",
       "std           6.871826e+05  1.131325e+06      2.016572e+06   \n",
       "min           0.000000e+00  0.000000e+00     -2.604490e+06   \n",
       "25%           0.000000e+00  0.000000e+00      2.434500e+04   \n",
       "50%           0.000000e+00  9.190000e+02      3.605280e+05   \n",
       "75%           3.745862e+05  1.485770e+05      7.374560e+05   \n",
       "max           5.145434e+06  1.035973e+07      1.476169e+07   \n",
       "\n",
       "       restricted_stock_deferred        salary  shared_receipt_with_poi  \\\n",
       "count               1.440000e+02  1.440000e+02               144.000000   \n",
       "mean                7.341790e+04  1.854460e+05               702.611111   \n",
       "std                 1.301983e+06  1.970421e+05              1077.290736   \n",
       "min                -1.787380e+06  0.000000e+00                 0.000000   \n",
       "25%                 0.000000e+00  0.000000e+00                 0.000000   \n",
       "50%                 0.000000e+00  2.105960e+05               114.000000   \n",
       "75%                 0.000000e+00  2.696675e+05               933.750000   \n",
       "max                 1.545629e+07  1.111258e+06              5521.000000   \n",
       "\n",
       "        to_messages  total_payments  total_stock_value  \n",
       "count    144.000000    1.440000e+02       1.440000e+02  \n",
       "mean    1238.555556    2.256543e+06       2.909786e+06  \n",
       "std     2237.564816    8.847189e+06       6.189018e+06  \n",
       "min        0.000000    0.000000e+00      -4.409300e+04  \n",
       "25%        0.000000    9.019275e+04       2.443265e+05  \n",
       "50%      347.500000    9.413595e+05       9.659550e+05  \n",
       "75%     1623.000000    1.945668e+06       2.295176e+06  \n",
       "max    15149.000000    1.035598e+08       4.911008e+07  "
      ]
     },
     "execution_count": 45,
     "metadata": {},
     "output_type": "execute_result"
    }
   ],
   "source": [
    "#Making dataframes in pandas one for the keys and one for the values\n",
    "\n",
    "df_values = pd.DataFrame.from_records(list(data_dict.values()))\n",
    "df_values.head()\n",
    "\n",
    "df_persons = pd.Series(list(data_dict.keys()))\n",
    "df_persons.head()\n",
    "\n",
    "#We see lot's of NaN values. So we have to take care of that. We will convert them to numpy nan and then to zero.\n",
    "df_values.replace(to_replace='NaN', value=np.nan, inplace=True)\n",
    "\n",
    "# Count number of NaN's for columns\n",
    "print df_values.isnull().sum()\n",
    "\n",
    "# DataFrame dimension\n",
    "print df_values.shape\n",
    "\n",
    "\n",
    "df_null = df_values.replace(to_replace=np.nan, value=0)\n",
    "df_null = df_values.fillna(0).copy(deep=True)\n",
    "df_null.columns = list(df_values.columns.values)\n",
    "print df_null.isnull().sum()\n",
    "print df_null.head()\n",
    "\n",
    "df_null.describe()\n"
   ]
  },
  {
   "cell_type": "markdown",
   "metadata": {},
   "source": [
    "## Feature selection\n",
    "\n",
    "For selecting the best features I am going to use SelectKBest method from scikit-learn. I am going to choose the top 11 features."
   ]
  },
  {
   "cell_type": "code",
   "execution_count": 46,
   "metadata": {},
   "outputs": [
    {
     "name": "stdout",
     "output_type": "stream",
     "text": [
      "11 best features: ['salary', 'total_payments', 'loan_advances', 'bonus', 'total_stock_value', 'shared_receipt_with_poi', 'exercised_stock_options', 'deferred_income', 'expenses', 'restricted_stock', 'long_term_incentive']\n",
      "\n",
      "{'salary': 18.289684043404513, 'total_payments': 8.7727777300916792, 'loan_advances': 7.1840556582887247, 'bonus': 20.792252047181535, 'total_stock_value': 24.182898678566879, 'shared_receipt_with_poi': 8.589420731682381, 'exercised_stock_options': 24.815079733218194, 'deferred_income': 11.458476579280369, 'expenses': 6.0941733106389453, 'restricted_stock': 9.2128106219771002, 'long_term_incentive': 9.9221860131898225}\n",
      "{'salary': 18.289684043404513, 'total_payments': 8.7727777300916792, 'loan_advances': 7.1840556582887247, 'bonus': 20.792252047181535, 'total_stock_value': 24.182898678566879, 'shared_receipt_with_poi': 8.589420731682381, 'exercised_stock_options': 24.815079733218194, 'deferred_income': 11.458476579280369, 'expenses': 6.0941733106389453, 'restricted_stock': 9.2128106219771002, 'long_term_incentive': 9.9221860131898225}\n",
      "11 selected features: ['salary', 'total_payments', 'loan_advances', 'bonus', 'total_stock_value', 'shared_receipt_with_poi', 'exercised_stock_options', 'deferred_income', 'expenses', 'restricted_stock', 'long_term_incentive']\n",
      "\n"
     ]
    }
   ],
   "source": [
    "def get_k_best(enron_data, features_list, k):\n",
    "    \"\"\" runs scikit-learn's SelectKBest feature selection\n",
    "        returns dict where keys=features, values=scores\n",
    "    \"\"\"\n",
    "    data = featureFormat(data_dict, features_list)\n",
    "    labels, features = targetFeatureSplit(data)\n",
    "\n",
    "    k_best = SelectKBest(k=k)\n",
    "    k_best.fit(features, labels)\n",
    "    scores = k_best.scores_\n",
    "    unsorted_pairs = zip(features_list[1:], scores)\n",
    "    sorted_pairs = list(reversed(sorted(unsorted_pairs, key=lambda x: x[1])))\n",
    "    k_best_features = dict(sorted_pairs[:k])\n",
    "    print \"{0} best features: {1}\\n\".format(k, k_best_features.keys())\n",
    "    print k_best_features\n",
    "    return k_best_features\n",
    "\n",
    "target_label = 'poi'\n",
    "num_features = 11 # 11 best features\n",
    "top_features = get_k_best(data_dict, features_list, num_features)\n",
    "print top_features\n",
    "my_feature_list = [target_label] + top_features.keys()\n",
    "# print my_feature_list\n",
    "\n",
    "print \"{0} selected features: {1}\\n\".format(len(my_feature_list) - 1, my_feature_list[1:])\n",
    "\n",
    "features_list = my_feature_list\n"
   ]
  },
  {
   "cell_type": "markdown",
   "metadata": {},
   "source": [
    "## Feature Engineering\n",
    "\n",
    "Now let's add some new features of interest to the list of the features. I will make three functions to do that. "
   ]
  },
  {
   "cell_type": "markdown",
   "metadata": {},
   "source": [
    "## Proportion of email interaction with POIs"
   ]
  },
  {
   "cell_type": "code",
   "execution_count": 47,
   "metadata": {
    "collapsed": true
   },
   "outputs": [],
   "source": [
    "def add_poi_ratio(data_dict, features_list):\n",
    "    \"\"\" mutates data dict to add proportion of email interaction with pois \"\"\"\n",
    "    fields = ['to_messages', 'from_messages',\n",
    "              'from_poi_to_this_person', 'from_this_person_to_poi']\n",
    "    for record in data_dict:\n",
    "        person = data_dict[record]\n",
    "        is_valid = True\n",
    "        for field in fields:\n",
    "            if person[field] == 'NaN':\n",
    "                is_valid = False\n",
    "        if is_valid:\n",
    "            total_messages = person['to_messages'] +\\\n",
    "                             person['from_messages']\n",
    "            poi_messages = person['from_poi_to_this_person'] +\\\n",
    "                           person['from_this_person_to_poi']\n",
    "            person['poi_ratio'] = float(poi_messages) / total_messages\n",
    "        else:\n",
    "            person['poi_ratio'] = 'NaN'\n",
    "    features_list += ['poi_ratio']\n",
    "\n"
   ]
  },
  {
   "cell_type": "markdown",
   "metadata": {},
   "source": [
    "## Proportion of emails to POIs"
   ]
  },
  {
   "cell_type": "code",
   "execution_count": 48,
   "metadata": {
    "collapsed": true
   },
   "outputs": [],
   "source": [
    "def add_fraction_to_poi(data_dict, features_list):\n",
    "    \"\"\" mutates data dict to add proportion of email fraction_to_poi \"\"\"\n",
    "    fields = ['from_messages', 'from_this_person_to_poi']\n",
    "    for record in data_dict:\n",
    "        person = data_dict[record]\n",
    "        is_valid = True\n",
    "        for field in fields:\n",
    "            if person[field] == 'NaN':\n",
    "                is_valid = False\n",
    "        if is_valid:\n",
    "            total_messages = person['from_messages']\n",
    "            poi_messages =   person['from_this_person_to_poi']\n",
    "            person['fraction_to_poi'] = float(poi_messages) / total_messages\n",
    "        else:\n",
    "            person['fraction_to_poi'] = 'NaN'\n",
    "    features_list += ['fraction_to_poi']\n"
   ]
  },
  {
   "cell_type": "markdown",
   "metadata": {},
   "source": [
    "## Proportion of emails from POIs"
   ]
  },
  {
   "cell_type": "code",
   "execution_count": 49,
   "metadata": {
    "collapsed": true
   },
   "outputs": [],
   "source": [
    "def add_fraction_from_poi(data_dict, features_list):\n",
    "    \"\"\" mutates data dict to add proportion of email fraction_to_poi \"\"\"\n",
    "    fields = ['to_messages', 'from_poi_to_this_person']\n",
    "    for record in data_dict:\n",
    "        person = data_dict[record]\n",
    "        is_valid = True\n",
    "        for field in fields:\n",
    "            if person[field] == 'NaN':\n",
    "                is_valid = False\n",
    "        if is_valid:\n",
    "            total_messages = person['to_messages']\n",
    "            poi_messages =   person['from_poi_to_this_person']\n",
    "            person['fraction_from_poi'] = float(poi_messages) / total_messages\n",
    "        else:\n",
    "            person['fraction_from_poi'] = 'NaN'\n",
    "    features_list += ['fraction_from_poi']\n"
   ]
  },
  {
   "cell_type": "markdown",
   "metadata": {},
   "source": [
    "## Adding them to the features list"
   ]
  },
  {
   "cell_type": "code",
   "execution_count": 51,
   "metadata": {},
   "outputs": [
    {
     "name": "stdout",
     "output_type": "stream",
     "text": [
      "['poi', 'salary', 'total_payments', 'loan_advances', 'bonus', 'total_stock_value', 'shared_receipt_with_poi', 'exercised_stock_options', 'deferred_income', 'expenses', 'restricted_stock', 'long_term_incentive', 'poi_ratio', 'fraction_to_poi', 'fraction_from_poi']\n"
     ]
    }
   ],
   "source": [
    "add_poi_ratio(data_dict, my_feature_list)\n",
    "add_fraction_to_poi(data_dict, my_feature_list)\n",
    "add_fraction_from_poi(data_dict, my_feature_list)\n",
    "\n",
    "print my_feature_list\n",
    "\n",
    "features_list = my_feature_list\n",
    "my_dataset = data_dict"
   ]
  },
  {
   "cell_type": "markdown",
   "metadata": {},
   "source": [
    "## Extract features and labels from dataset for local testing"
   ]
  },
  {
   "cell_type": "code",
   "execution_count": 52,
   "metadata": {
    "collapsed": true
   },
   "outputs": [],
   "source": [
    "data = featureFormat(my_dataset, features_list, sort_keys = True)\n",
    "labels, features = targetFeatureSplit(data)"
   ]
  },
  {
   "cell_type": "markdown",
   "metadata": {},
   "source": [
    "## Scaling the features by MinMaxScaler from Sklearn preprocessing module"
   ]
  },
  {
   "cell_type": "code",
   "execution_count": 54,
   "metadata": {
    "collapsed": true
   },
   "outputs": [],
   "source": [
    "scaler = preprocessing.MinMaxScaler()\n",
    "features = scaler.fit_transform(features)"
   ]
  },
  {
   "cell_type": "markdown",
   "metadata": {},
   "source": [
    "## Splitting the data into train data(70%) and test data(30%)"
   ]
  },
  {
   "cell_type": "code",
   "execution_count": 55,
   "metadata": {
    "collapsed": true
   },
   "outputs": [],
   "source": [
    "features_train,features_test,labels_train,labels_test = cross_validation.train_test_split(features,labels, test_size=0.3, \n",
    "                                                                                          random_state=42)"
   ]
  },
  {
   "cell_type": "markdown",
   "metadata": {},
   "source": [
    "## Using different Machine Learning Classifiers\n",
    "\n",
    "We will iterate through variety of classifiers to see which one's prediction is the best."
   ]
  },
  {
   "cell_type": "markdown",
   "metadata": {},
   "source": [
    "## Decision Tree Classifier"
   ]
  },
  {
   "cell_type": "code",
   "execution_count": 66,
   "metadata": {},
   "outputs": [
    {
     "name": "stdout",
     "output_type": "stream",
     "text": [
      "Decision Tree Classifier: \n",
      "Accuracy: 0.860465116279\n",
      "Precision Score: 0.333333333333\n",
      "Recall Score: 0.2\n"
     ]
    }
   ],
   "source": [
    "clf = DecisionTreeClassifier(max_depth=5)\n",
    "clf.fit(features_train,labels_train)\n",
    "pred = clf.predict(features_test)\n",
    "from sklearn.metrics import accuracy_score\n",
    "accuracy = accuracy_score(labels_test,pred)\n",
    "print(\"Decision Tree Classifier: \")\n",
    "print \"Accuracy: \" + str(accuracy)\n",
    "print \"Precision Score: \" + str(precision_score(labels_test,pred))\n",
    "print \"Recall Score: \" + str(recall_score(labels_test,pred))"
   ]
  },
  {
   "cell_type": "markdown",
   "metadata": {},
   "source": [
    "## Random Forest Classifier"
   ]
  },
  {
   "cell_type": "code",
   "execution_count": 59,
   "metadata": {},
   "outputs": [
    {
     "name": "stdout",
     "output_type": "stream",
     "text": [
      "Random Forest Classifier: \n",
      "Accuracy: 0.813953488372\n",
      "Precision Score: 0.2\n",
      "Recall Score: 0.2\n"
     ]
    }
   ],
   "source": [
    "clf = RandomForestClassifier(max_depth=5, n_estimators=10, max_features=10)\n",
    "clf.fit(features_train,labels_train)\n",
    "pred = clf.predict(features_test)\n",
    "from sklearn.metrics import accuracy_score\n",
    "accuracy = accuracy_score(labels_test,pred)\n",
    "print(\"Random Forest Classifier: \")\n",
    "print \"Accuracy: \" + str(accuracy)\n",
    "print \"Precision Score: \" + str(precision_score(labels_test,pred))\n",
    "print \"Recall Score: \" + str(recall_score(labels_test,pred))"
   ]
  },
  {
   "cell_type": "markdown",
   "metadata": {},
   "source": [
    "## Naive Bayes Classifier"
   ]
  },
  {
   "cell_type": "code",
   "execution_count": 60,
   "metadata": {},
   "outputs": [
    {
     "name": "stdout",
     "output_type": "stream",
     "text": [
      "Naive Bayes Classifier: \n",
      "Accuracy: 0.860465116279\n",
      "Precision Score: 0.4\n",
      "Recall Score: 0.4\n"
     ]
    }
   ],
   "source": [
    "clf = GaussianNB()\n",
    "clf.fit(features_train,labels_train)\n",
    "pred = clf.predict(features_test)\n",
    "from sklearn.metrics import accuracy_score\n",
    "accuracy = accuracy_score(labels_test,pred)\n",
    "print(\"Naive Bayes Classifier: \")\n",
    "print \"Accuracy: \" + str(accuracy)\n",
    "print \"Precision Score: \" + str(precision_score(labels_test,pred))\n",
    "print \"Recall Score: \" + str(recall_score(labels_test,pred))"
   ]
  },
  {
   "cell_type": "markdown",
   "metadata": {},
   "source": [
    "## AdaBoost Classifier"
   ]
  },
  {
   "cell_type": "code",
   "execution_count": 67,
   "metadata": {},
   "outputs": [
    {
     "name": "stdout",
     "output_type": "stream",
     "text": [
      "Adaboost Classifier: \n",
      "Accuracy: 0.837209302326\n",
      "Precision Score: 0.25\n",
      "Recall Score: 0.2\n"
     ]
    }
   ],
   "source": [
    "clf = AdaBoostClassifier()\n",
    "clf.fit(features_train,labels_train)\n",
    "pred = clf.predict(features_test)\n",
    "from sklearn.metrics import accuracy_score\n",
    "accuracy = accuracy_score(labels_test,pred)\n",
    "print(\"Adaboost Classifier: \")\n",
    "print \"Accuracy: \" + str(accuracy)\n",
    "print \"Precision Score: \" + str(precision_score(labels_test,pred))\n",
    "print \"Recall Score: \" + str(recall_score(labels_test,pred))"
   ]
  },
  {
   "cell_type": "markdown",
   "metadata": {},
   "source": [
    "## Standard Vector Machine (rbf) Classifier"
   ]
  },
  {
   "cell_type": "code",
   "execution_count": 68,
   "metadata": {},
   "outputs": [
    {
     "name": "stdout",
     "output_type": "stream",
     "text": [
      "SVM Classifier: \n",
      "Accuracy: 0.860465116279\n",
      "Precision Score: 0.0\n",
      "Recall Score: 0.0\n"
     ]
    }
   ],
   "source": [
    "clf = SVC(gamma=3, C=2)\n",
    "clf.fit(features_train,labels_train)\n",
    "pred = clf.predict(features_test)\n",
    "from sklearn.metrics import accuracy_score\n",
    "accuracy = accuracy_score(labels_test,pred)\n",
    "print(\"SVM Classifier: \")\n",
    "print \"Accuracy: \" + str(accuracy)\n",
    "print \"Precision Score: \" + str(precision_score(labels_test,pred))\n",
    "print \"Recall Score: \" + str(recall_score(labels_test,pred))"
   ]
  },
  {
   "cell_type": "markdown",
   "metadata": {},
   "source": [
    "## K Nearest Neighbours Classifier"
   ]
  },
  {
   "cell_type": "code",
   "execution_count": 69,
   "metadata": {},
   "outputs": [
    {
     "name": "stdout",
     "output_type": "stream",
     "text": [
      "SVM Classifier: \n",
      "Accuracy: 0.837209302326\n",
      "Precision Score: 0.0\n",
      "Recall Score: 0.0\n"
     ]
    }
   ],
   "source": [
    "clf = KNeighborsClassifier(3)\n",
    "clf.fit(features_train,labels_train)\n",
    "pred = clf.predict(features_test)\n",
    "from sklearn.metrics import accuracy_score\n",
    "accuracy = accuracy_score(labels_test,pred)\n",
    "print(\"SVM Classifier: \")\n",
    "print \"Accuracy: \" + str(accuracy)\n",
    "print \"Precision Score: \" + str(precision_score(labels_test,pred))\n",
    "print \"Recall Score: \" + str(recall_score(labels_test,pred))"
   ]
  },
  {
   "cell_type": "markdown",
   "metadata": {},
   "source": [
    "So we see that the Decision Tree classifier is giving us one of the best accuracy rates around the range of 83-86%. So we will use this classifier and fine tune it to increase the accuracy of the model even more. We will use GridSearchCV to tune this classifier."
   ]
  },
  {
   "cell_type": "code",
   "execution_count": 70,
   "metadata": {
    "collapsed": true
   },
   "outputs": [],
   "source": [
    "from sklearn import grid_search\n",
    "from sklearn.metrics import f1_score"
   ]
  },
  {
   "cell_type": "code",
   "execution_count": 71,
   "metadata": {
    "collapsed": true
   },
   "outputs": [],
   "source": [
    "cv = cross_validation.StratifiedShuffleSplit(labels, n_iter=10)\n",
    "\n",
    "\n",
    "def scoring(estimator, features_test, labels_test):\n",
    "    labels_pred = estimator.predict(features_test)\n",
    "    p = precision_score(labels_test, labels_pred, average='micro')\n",
    "    r = recall_score(labels_test, labels_pred, average='micro')\n",
    "    if p > 0.3 and r > 0.3:\n",
    "        return f1_score(labels_test, labels_pred, average='macro')\n",
    "    return 0\n"
   ]
  },
  {
   "cell_type": "markdown",
   "metadata": {},
   "source": [
    "## Decision Tree Classifier Tuning"
   ]
  },
  {
   "cell_type": "code",
   "execution_count": 72,
   "metadata": {},
   "outputs": [
    {
     "name": "stdout",
     "output_type": "stream",
     "text": [
      "DecisionTreeClassifier(class_weight=None, criterion='entropy', max_depth=3,\n",
      "            max_features=None, max_leaf_nodes=None,\n",
      "            min_impurity_split=1e-07, min_samples_leaf=4,\n",
      "            min_samples_split=2, min_weight_fraction_leaf=0.0,\n",
      "            presort=False, random_state=None, splitter='best')\n",
      "0.804156491656\n",
      "Processing time: 15.074 s\n"
     ]
    }
   ],
   "source": [
    "t0 = time()\n",
    "parameters = {'max_depth': [1, 2, 3, 4, 5, 6, 8, 9, 10], 'min_samples_split': [2],\n",
    "              'min_samples_leaf': [1, 2, 3, 4, 5, 6, 7, 8], 'criterion': ('gini', 'entropy')}\n",
    "\n",
    "decTree_clf = DecisionTreeClassifier(max_depth=10)\n",
    "decTreeclf = grid_search.GridSearchCV(decTree_clf, parameters, scoring=scoring, cv=cv)\n",
    "\n",
    "decTreeclf.fit(features, labels)\n",
    "print decTreeclf.best_estimator_\n",
    "print decTreeclf.best_score_\n",
    "print 'Processing time:', round(time() - t0, 3), 's'"
   ]
  },
  {
   "cell_type": "markdown",
   "metadata": {},
   "source": [
    "## Classifier Validation"
   ]
  },
  {
   "cell_type": "code",
   "execution_count": 73,
   "metadata": {},
   "outputs": [
    {
     "name": "stdout",
     "output_type": "stream",
     "text": [
      "DecisionTreeClassifier(class_weight=None, criterion='entropy', max_depth=3,\n",
      "            max_features=None, max_leaf_nodes=None,\n",
      "            min_impurity_split=1e-07, min_samples_leaf=4,\n",
      "            min_samples_split=2, min_weight_fraction_leaf=0.0,\n",
      "            presort=False, random_state=None, splitter='best')\n",
      "\tAccuracy: 0.87820\tPrecision: 0.55356\tRecall: 0.44700\tF1: 0.49461\tF2: 0.46490\n",
      "\tTotal predictions: 15000\tTrue positives:  894\tFalse positives:  721\tFalse negatives: 1106\tTrue negatives: 12279\n",
      "\n",
      "Processing time: 3.581 s\n"
     ]
    }
   ],
   "source": [
    "##DecisionTreeClassifier Validation 1 (StratifiedShuffleSplit, folds = 1000)\n",
    "from tester import test_classifier\n",
    "t0 = time()\n",
    "decTree_best_clf = decTreeclf.best_estimator_\n",
    "test_classifier(decTree_best_clf, my_dataset, features_list)\n",
    "print 'Processing time:', round(time() - t0, 3), 's'"
   ]
  },
  {
   "cell_type": "code",
   "execution_count": 79,
   "metadata": {},
   "outputs": [
    {
     "name": "stdout",
     "output_type": "stream",
     "text": [
      "Accuracy and Deviation: (0.86724137931034484, 0.081577306579249109)\n",
      "Processing time: 0.058 s\n",
      "DecisionTreeClassifier(class_weight=None, criterion='entropy', max_depth=3,\n",
      "            max_features=None, max_leaf_nodes=None,\n",
      "            min_impurity_split=1e-07, min_samples_leaf=4,\n",
      "            min_samples_split=2, min_weight_fraction_leaf=0.0,\n",
      "            presort=False, random_state=None, splitter='best')\n",
      "\tAccuracy: 0.87773\tPrecision: 0.55130\tRecall: 0.44600\tF1: 0.49309\tF2: 0.46371\n",
      "\tTotal predictions: 15000\tTrue positives:  892\tFalse positives:  726\tFalse negatives: 1108\tTrue negatives: 12274\n",
      "\n"
     ]
    }
   ],
   "source": [
    "##DecisionTreeClassifier Validation 2  (Cross validation)\n",
    "\n",
    "from sklearn.model_selection import cross_val_score\n",
    "t0 = time()\n",
    "decTree_best_clf = decTreeclf.best_estimator_\n",
    "scores = cross_val_score(decTree_best_clf, features, labels, cv=5,scoring = 'accuracy')\n",
    "print(\"Accuracy and Deviation: \" + str((scores.mean(), scores.std() * 2)))\n",
    "print 'Processing time:', round(time() - t0, 3), 's'\n",
    "test_classifier(decTree_best_clf, my_dataset, features_list)"
   ]
  },
  {
   "cell_type": "markdown",
   "metadata": {},
   "source": [
    "## Improvement in our machine learning classifier\n",
    "\n",
    "So we see by applying Stratified Shuffle Split to our Decision Tree Classifier, we are able to improve the accuracy of our classifier by more than ** 1% **. So right now, it is giving us an accuracy of ** ~87% **. We also see that ratio of the false positives to true positives is much higher than the ratio of false negatives to true negatives. This is actually good for us because we would rather mark a person as POI who in reality is not a POI than not able to catch the Real POIs and marking them as False POIs. My argument here is even though we mark someone as a POI wrongly, he/she will still get through unscathed after investigation. But on the other hand, if we miss someone who is indeed guilty, then that person is just not facing the justice as he/she should have. "
   ]
  }
 ],
 "metadata": {
  "kernelspec": {
   "display_name": "Python 2",
   "language": "python",
   "name": "python2"
  },
  "language_info": {
   "codemirror_mode": {
    "name": "ipython",
    "version": 2
   },
   "file_extension": ".py",
   "mimetype": "text/x-python",
   "name": "python",
   "nbconvert_exporter": "python",
   "pygments_lexer": "ipython2",
   "version": "2.7.13"
  }
 },
 "nbformat": 4,
 "nbformat_minor": 2
}
