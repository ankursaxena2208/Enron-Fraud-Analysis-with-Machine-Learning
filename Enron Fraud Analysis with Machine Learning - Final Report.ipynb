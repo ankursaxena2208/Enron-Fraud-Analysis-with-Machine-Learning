{
 "cells": [
  {
   "cell_type": "markdown",
   "metadata": {},
   "source": [
    "# Enron Scandal: The smartest guys in the room?\n",
    "\n",
    "## Author: Sagarnil Das\n",
    "## Date: 28th June, 2017\n",
    "\n",
    "Enron, a multibillion dollar company in the heart of the Wall Street was one of the largest companies in the United States in 2000. By 2002, it collapsed into bankruptcy due to widespread corporate fraud. They reached a dizzying height only to face a plummeting collapse. The bankruptcy of Enron affected thousands of its employees and shook the whole Wall Street by its foundation. In the federal investigation that followed, all the emails from Enron employees were made public. Since then these emails have spreaded like a wildfire through the world and many analysis and investigations have been done on this data. In this project, my target is to build a ** Person of Interest ** identifier/Label and try to build a Machine Learning Algorithm to predict the possible Persons of Interest based on various features."
   ]
  },
  {
   "cell_type": "markdown",
   "metadata": {},
   "source": [
    "## Summarize the goal of this project and how machine learning is useful in trying to accomplish it. As part of your answer, give some background on the dataset and how it can be used to answer the project question. Were there any outliers in the data when you got it, and how did you handle those?\n",
    "\n",
    "The goal of this project was to utilize the financial and email data from Enron to build a predictive, analytic model that could identify whether an individual could be considered a \"person of interest\" (POI). Since the dataset contained labeled data--culpable persons were already listed as POIs--the value of this model on the existing dataset is limited. Rather, the potential value such a model may provide is in application to other datasets from other companies, to potentially identify suspects worth investigating further. The dataset contained 146 records with 14 financial features, 6 email features, and 1 labeled feature (POI). Of the 146 records, 18 were labeled, a priori, as persons of interest. Through exploratory data analysis and cursory spreadsheet/CSV review, I was able to identify 2 candidate records for removal:\n",
    "\n",
    "TOTAL: This was an extreme outlier for most numerical features, as it was likely a spreadsheet artifact.\n",
    "THE TRAVEL AGENCY IN THE PARK: This record did not represent an individual.\n",
    "After data cleaning, 144 records remained."
   ]
  },
  {
   "cell_type": "markdown",
   "metadata": {},
   "source": [
    "## Initial Preparation/Importing Libraries"
   ]
  },
  {
   "cell_type": "code",
   "execution_count": 503,
   "metadata": {},
   "outputs": [],
   "source": [
    "import matplotlib.pyplot as plt\n",
    "import sys\n",
    "import pickle\n",
    "import pandas as pd\n",
    "import numpy as np\n",
    "from sklearn.feature_selection import SelectKBest\n",
    "from sklearn import preprocessing\n",
    "from sklearn import cross_validation\n",
    "from sklearn.tree import DecisionTreeClassifier\n",
    "from sklearn.ensemble import AdaBoostClassifier\n",
    "from sklearn.ensemble import RandomForestClassifier\n",
    "from sklearn.neighbors import KNeighborsClassifier\n",
    "from sklearn.svm import SVC\n",
    "from sklearn.naive_bayes import GaussianNB\n",
    "from time import time\n",
    "from sklearn.metrics import accuracy_score\n",
    "from sklearn.metrics import precision_score\n",
    "from sklearn.metrics import recall_score\n",
    "from sklearn.grid_search import GridSearchCV\n",
    "sys.path.append(\"../tools/\")\n",
    "from feature_format import featureFormat, targetFeatureSplit\n",
    "from tester import dump_classifier_and_data\n",
    "import pprint\n",
    "import warnings\n",
    "warnings.filterwarnings('ignore')"
   ]
  },
  {
   "cell_type": "markdown",
   "metadata": {},
   "source": [
    "## Create Features list and Import necessary files"
   ]
  },
  {
   "cell_type": "code",
   "execution_count": 504,
   "metadata": {
    "collapsed": true
   },
   "outputs": [],
   "source": [
    "features_list = ['poi', 'salary', 'to_messages', 'deferral_payments', 'total_payments',\n",
    "                 'loan_advances', 'bonus', 'restricted_stock_deferred',\n",
    "                 'deferred_income', 'total_stock_value', 'expenses', 'from_poi_to_this_person',\n",
    "                 'exercised_stock_options', 'from_messages', 'other', 'from_this_person_to_poi',\n",
    "                 'long_term_incentive', 'shared_receipt_with_poi', 'restricted_stock', 'director_fees']\n",
    "\n",
    "### Load the dictionary containing the dataset\n",
    "with open(\"final_project_dataset.pkl\", \"r\") as data_file:\n",
    "    data_dict = pickle.load(data_file)"
   ]
  },
  {
   "cell_type": "markdown",
   "metadata": {},
   "source": [
    "## Initial data exploration"
   ]
  },
  {
   "cell_type": "code",
   "execution_count": 505,
   "metadata": {},
   "outputs": [
    {
     "name": "stdout",
     "output_type": "stream",
     "text": [
      "{'bonus': 5600000,\n",
      " 'deferral_payments': 'NaN',\n",
      " 'deferred_income': 'NaN',\n",
      " 'director_fees': 'NaN',\n",
      " 'email_address': 'jeff.skilling@enron.com',\n",
      " 'exercised_stock_options': 19250000,\n",
      " 'expenses': 29336,\n",
      " 'from_messages': 108,\n",
      " 'from_poi_to_this_person': 88,\n",
      " 'from_this_person_to_poi': 30,\n",
      " 'loan_advances': 'NaN',\n",
      " 'long_term_incentive': 1920000,\n",
      " 'other': 22122,\n",
      " 'poi': True,\n",
      " 'restricted_stock': 6843672,\n",
      " 'restricted_stock_deferred': 'NaN',\n",
      " 'salary': 1111258,\n",
      " 'shared_receipt_with_poi': 2042,\n",
      " 'to_messages': 3627,\n",
      " 'total_payments': 8682716,\n",
      " 'total_stock_value': 26093672}\n",
      "Total number of people in the dataset: 146\n",
      "Total number of features in the dataset: 21\n",
      "Number of POIs in the dataset: 18\n"
     ]
    }
   ],
   "source": [
    "#Sample data for one of the Top executives - Jeffrey Skilling\n",
    "pprint.pprint(data_dict[\"SKILLING JEFFREY K\"])\n",
    "\n",
    "#Number of people in the datasets\n",
    "\n",
    "print \"Total number of people in the dataset: \" + str(len(data_dict))\n",
    "\n",
    "#Number of features available in the dataset\n",
    "\n",
    "print \"Total number of features in the dataset: \" + str(len(data_dict[\"SKILLING JEFFREY K\"]))\n",
    "\n",
    "#Number of POIs in the dataset\n",
    "\n",
    "def poi_count(file):\n",
    "    count = 0\n",
    "    for data in file:\n",
    "        if file[data]['poi'] == True:\n",
    "            count += 1\n",
    "    print \"Number of POIs in the dataset: \" + str(count)\n",
    "\n",
    "poi_count(data_dict)\n"
   ]
  },
  {
   "cell_type": "markdown",
   "metadata": {},
   "source": [
    "## Detect outliers and remove them\n",
    "\n",
    "Now we will consider a few features where having outliers can significantly affect our whole analysis. We will analyze these outliers to see whether they should be there or we can remove them to make our analysis more robust."
   ]
  },
  {
   "cell_type": "code",
   "execution_count": 506,
   "metadata": {},
   "outputs": [
    {
     "name": "stdout",
     "output_type": "stream",
     "text": [
      "97343619.0\n"
     ]
    },
    {
     "data": {
      "image/png": "[encoded data removed]",
      "text/plain": [
       "<matplotlib.figure.Figure at 0xe7eea90>"
      ]
     },
     "metadata": {},
     "output_type": "display_data"
    }
   ],
   "source": [
    "features = [\"bonus\",\"salary\"]\n",
    "data = featureFormat(data_dict, features)\n",
    "print(data.max())\n",
    "\n",
    "for point in data:\n",
    "    bonus = point[0]\n",
    "    salary = point[1]\n",
    "    plt.scatter( bonus, salary )\n",
    "\n",
    "plt.xlabel(\"bonus\")\n",
    "plt.ylabel(\"salary\")\n",
    "plt.show()"
   ]
  },
  {
   "cell_type": "markdown",
   "metadata": {},
   "source": [
    "WOW! That's a huge outlier right there in the upper right corner! In fact it is so big that it is making all the other points insignificant in scale. So what's going on over there? Looking at the dataset, we see it is an excel artifact which calculated the ** TOTAL ** value or the sum. So it should be removed. Another point which should be removed is ** THE TRAVEL AGENCY IN THE PARK **. Both of these values does not belong to any individual and thus not significant for our analysis. We also try to find out who got the maximum salary and the maximum bonus."
   ]
  },
  {
   "cell_type": "markdown",
   "metadata": {},
   "source": [
    "## Maximum Salary"
   ]
  },
  {
   "cell_type": "code",
   "execution_count": 507,
   "metadata": {},
   "outputs": [
    {
     "name": "stdout",
     "output_type": "stream",
     "text": [
      "[('TOTAL', 26704229), ('SKILLING JEFFREY K', 1111258)]\n"
     ]
    }
   ],
   "source": [
    "outliers_salary = []\n",
    "for key in data_dict:\n",
    "    val = data_dict[key]['salary']\n",
    "    if val == 'NaN':\n",
    "        continue\n",
    "    outliers_salary.append((key,int(val)))\n",
    "\n",
    "pprint.pprint(sorted(outliers_salary,key=lambda x:x[1],reverse=True)[:2])"
   ]
  },
  {
   "cell_type": "markdown",
   "metadata": {},
   "source": [
    "## Maximum Bonus"
   ]
  },
  {
   "cell_type": "code",
   "execution_count": 508,
   "metadata": {},
   "outputs": [
    {
     "name": "stdout",
     "output_type": "stream",
     "text": [
      "[('TOTAL', 97343619), ('LAVORATO JOHN J', 8000000)]\n"
     ]
    }
   ],
   "source": [
    "from pprint import pprint\n",
    "outliers_bonus = []\n",
    "for key in data_dict:\n",
    "    val = data_dict[key]['bonus']\n",
    "    if val == 'NaN':\n",
    "        continue\n",
    "    outliers_bonus.append((key,int(val)))\n",
    "\n",
    "pprint(sorted(outliers_bonus,key=lambda x:x[1],reverse=True)[:2])"
   ]
  },
  {
   "cell_type": "markdown",
   "metadata": {},
   "source": [
    "Thats's some insane amount of money right there!"
   ]
  },
  {
   "cell_type": "markdown",
   "metadata": {},
   "source": [
    "## Removing Total and Travel Agency in the Park outliers"
   ]
  },
  {
   "cell_type": "code",
   "execution_count": 509,
   "metadata": {},
   "outputs": [
    {
     "data": {
      "text/plain": [
       "{'bonus': 'NaN',\n",
       " 'deferral_payments': 'NaN',\n",
       " 'deferred_income': 'NaN',\n",
       " 'director_fees': 'NaN',\n",
       " 'email_address': 'NaN',\n",
       " 'exercised_stock_options': 'NaN',\n",
       " 'expenses': 'NaN',\n",
       " 'from_messages': 'NaN',\n",
       " 'from_poi_to_this_person': 'NaN',\n",
       " 'from_this_person_to_poi': 'NaN',\n",
       " 'loan_advances': 'NaN',\n",
       " 'long_term_incentive': 'NaN',\n",
       " 'other': 362096,\n",
       " 'poi': False,\n",
       " 'restricted_stock': 'NaN',\n",
       " 'restricted_stock_deferred': 'NaN',\n",
       " 'salary': 'NaN',\n",
       " 'shared_receipt_with_poi': 'NaN',\n",
       " 'to_messages': 'NaN',\n",
       " 'total_payments': 362096,\n",
       " 'total_stock_value': 'NaN'}"
      ]
     },
     "execution_count": 509,
     "metadata": {},
     "output_type": "execute_result"
    }
   ],
   "source": [
    "data_dict.pop('TOTAL',0)\n",
    "data_dict.pop('THE TRAVEL AGENCY IN THE PARK',0)"
   ]
  },
  {
   "cell_type": "markdown",
   "metadata": {},
   "source": [
    "## Plotting after outlier removal\n",
    "\n",
    "We will try to plot the same plot. Now that we have removed the huge outliers, we should expect to see something much different than what we saw before.\n"
   ]
  },
  {
   "cell_type": "code",
   "execution_count": 510,
   "metadata": {},
   "outputs": [
    {
     "data": {
      "image/png": "[encoded data removed]",
      "text/plain": [
       "<matplotlib.figure.Figure at 0xf222ef0>"
      ]
     },
     "metadata": {},
     "output_type": "display_data"
    }
   ],
   "source": [
    "my_dataset = data_dict\n",
    "my_feature_list = features_list\n",
    "data = featureFormat(data_dict, features)\n",
    "for point in data:\n",
    "    salary = point[0]\n",
    "    bonus = point[1]\n",
    "    plt.scatter( salary, bonus )\n",
    "\n",
    "\n",
    "plt.xlabel(\"salary\")\n",
    "plt.ylabel(\"bonus\")\n",
    "plt.show()"
   ]
  },
  {
   "cell_type": "markdown",
   "metadata": {},
   "source": [
    "## Investigating emails from and to a Person of Interest\n",
    "\n",
    "Now we will investigate from_this_person_to_poi and from_poi_to_this_person for any outliers as they are important features"
   ]
  },
  {
   "cell_type": "code",
   "execution_count": 511,
   "metadata": {},
   "outputs": [
    {
     "name": "stdout",
     "output_type": "stream",
     "text": [
      "609.0\n"
     ]
    },
    {
     "data": {
      "image/png": "[encoded data removed]",
      "text/plain": [
       "<matplotlib.figure.Figure at 0xe561cc0>"
      ]
     },
     "metadata": {},
     "output_type": "display_data"
    }
   ],
   "source": [
    "features = [\"from_this_person_to_poi\", \"from_poi_to_this_person\"]\n",
    "data = featureFormat(data_dict, features)\n",
    "\n",
    "print data.max()\n",
    "#Plotting the graph\n",
    "for point in data:\n",
    "    from_this_person_to_poi = point[0]\n",
    "    from_poi_to_this_person = point[1]\n",
    "    plt.scatter( from_this_person_to_poi, from_poi_to_this_person )\n",
    "\n",
    "plt.xlabel(\"from_this_person_to_poi\")\n",
    "plt.ylabel(\"from_poi_to_this_person\")\n",
    "plt.show()\n"
   ]
  },
  {
   "cell_type": "markdown",
   "metadata": {},
   "source": [
    "Here we see a few outliers. But on investigation, I found out that they are real persons and not data error. So I am going to keep them in the dataset"
   ]
  },
  {
   "cell_type": "markdown",
   "metadata": {},
   "source": [
    "## Dealing with 'NaN' values"
   ]
  },
  {
   "cell_type": "code",
   "execution_count": 512,
   "metadata": {},
   "outputs": [
    {
     "name": "stdout",
     "output_type": "stream",
     "text": [
      "bonus                         63\n",
      "deferral_payments            106\n",
      "deferred_income               96\n",
      "director_fees                128\n",
      "email_address                 33\n",
      "exercised_stock_options       43\n",
      "expenses                      50\n",
      "from_messages                 58\n",
      "from_poi_to_this_person       58\n",
      "from_this_person_to_poi       58\n",
      "loan_advances                141\n",
      "long_term_incentive           79\n",
      "other                         53\n",
      "poi                            0\n",
      "restricted_stock              35\n",
      "restricted_stock_deferred    127\n",
      "salary                        50\n",
      "shared_receipt_with_poi       58\n",
      "to_messages                   58\n",
      "total_payments                21\n",
      "total_stock_value             19\n",
      "dtype: int64\n",
      "(144, 21)\n",
      "bonus                        0\n",
      "deferral_payments            0\n",
      "deferred_income              0\n",
      "director_fees                0\n",
      "email_address                0\n",
      "exercised_stock_options      0\n",
      "expenses                     0\n",
      "from_messages                0\n",
      "from_poi_to_this_person      0\n",
      "from_this_person_to_poi      0\n",
      "loan_advances                0\n",
      "long_term_incentive          0\n",
      "other                        0\n",
      "poi                          0\n",
      "restricted_stock             0\n",
      "restricted_stock_deferred    0\n",
      "salary                       0\n",
      "shared_receipt_with_poi      0\n",
      "to_messages                  0\n",
      "total_payments               0\n",
      "total_stock_value            0\n",
      "dtype: int64\n",
      "       bonus  deferral_payments  deferred_income  director_fees  \\\n",
      "0   600000.0                0.0              0.0            0.0   \n",
      "1  1200000.0          1295738.0       -1386055.0            0.0   \n",
      "2   350000.0                0.0        -400729.0            0.0   \n",
      "3        0.0                0.0              0.0            0.0   \n",
      "4  1500000.0                0.0       -3117011.0            0.0   \n",
      "\n",
      "              email_address  exercised_stock_options  expenses  from_messages  \\\n",
      "0      mark.metts@enron.com                      0.0   94299.0           29.0   \n",
      "1                         0                6680544.0   11200.0            0.0   \n",
      "2  steven.elliott@enron.com                4890344.0   78552.0            0.0   \n",
      "3     bill.cordes@enron.com                 651850.0       0.0           12.0   \n",
      "4    kevin.hannon@enron.com                5538001.0   34039.0           32.0   \n",
      "\n",
      "   from_poi_to_this_person  from_this_person_to_poi        ...          \\\n",
      "0                     38.0                      1.0        ...           \n",
      "1                      0.0                      0.0        ...           \n",
      "2                      0.0                      0.0        ...           \n",
      "3                     10.0                      0.0        ...           \n",
      "4                     32.0                     21.0        ...           \n",
      "\n",
      "   long_term_incentive      other    poi  restricted_stock  \\\n",
      "0                  0.0     1740.0  False          585062.0   \n",
      "1            1586055.0  2660303.0  False         3942714.0   \n",
      "2                  0.0    12961.0  False         1788391.0   \n",
      "3                  0.0        0.0  False          386335.0   \n",
      "4            1617011.0    11350.0   True          853064.0   \n",
      "\n",
      "   restricted_stock_deferred    salary  shared_receipt_with_poi  to_messages  \\\n",
      "0                        0.0  365788.0                    702.0        807.0   \n",
      "1                        0.0  267102.0                      0.0          0.0   \n",
      "2                        0.0  170941.0                      0.0          0.0   \n",
      "3                        0.0       0.0                     58.0        764.0   \n",
      "4                        0.0  243293.0                   1035.0       1045.0   \n",
      "\n",
      "   total_payments  total_stock_value  \n",
      "0       1061827.0           585062.0  \n",
      "1       5634343.0         10623258.0  \n",
      "2        211725.0          6678735.0  \n",
      "3             0.0          1038185.0  \n",
      "4        288682.0          6391065.0  \n",
      "\n",
      "[5 rows x 21 columns]\n"
     ]
    },
    {
     "data": {
      "text/html": [
       "<div>\n",
       "<style>\n",
       "    .dataframe thead tr:only-child th {\n",
       "        text-align: right;\n",
       "    }\n",
       "\n",
       "    .dataframe thead th {\n",
       "        text-align: left;\n",
       "    }\n",
       "\n",
       "    .dataframe tbody tr th {\n",
       "        vertical-align: top;\n",
       "    }\n",
       "</style>\n",
       "<table border=\"1\" class=\"dataframe\">\n",
       "  <thead>\n",
       "    <tr style=\"text-align: right;\">\n",
       "      <th></th>\n",
       "      <th>bonus</th>\n",
       "      <th>deferral_payments</th>\n",
       "      <th>deferred_income</th>\n",
       "      <th>director_fees</th>\n",
       "      <th>exercised_stock_options</th>\n",
       "      <th>expenses</th>\n",
       "      <th>from_messages</th>\n",
       "      <th>from_poi_to_this_person</th>\n",
       "      <th>from_this_person_to_poi</th>\n",
       "      <th>loan_advances</th>\n",
       "      <th>long_term_incentive</th>\n",
       "      <th>other</th>\n",
       "      <th>restricted_stock</th>\n",
       "      <th>restricted_stock_deferred</th>\n",
       "      <th>salary</th>\n",
       "      <th>shared_receipt_with_poi</th>\n",
       "      <th>to_messages</th>\n",
       "      <th>total_payments</th>\n",
       "      <th>total_stock_value</th>\n",
       "    </tr>\n",
       "  </thead>\n",
       "  <tbody>\n",
       "    <tr>\n",
       "      <th>count</th>\n",
       "      <td>1.440000e+02</td>\n",
       "      <td>1.440000e+02</td>\n",
       "      <td>1.440000e+02</td>\n",
       "      <td>144.000000</td>\n",
       "      <td>1.440000e+02</td>\n",
       "      <td>144.000000</td>\n",
       "      <td>144.000000</td>\n",
       "      <td>144.000000</td>\n",
       "      <td>144.000000</td>\n",
       "      <td>1.440000e+02</td>\n",
       "      <td>1.440000e+02</td>\n",
       "      <td>1.440000e+02</td>\n",
       "      <td>1.440000e+02</td>\n",
       "      <td>1.440000e+02</td>\n",
       "      <td>1.440000e+02</td>\n",
       "      <td>144.000000</td>\n",
       "      <td>144.000000</td>\n",
       "      <td>1.440000e+02</td>\n",
       "      <td>1.440000e+02</td>\n",
       "    </tr>\n",
       "    <tr>\n",
       "      <th>mean</th>\n",
       "      <td>6.759974e+05</td>\n",
       "      <td>2.220896e+05</td>\n",
       "      <td>-1.936833e+05</td>\n",
       "      <td>9980.319444</td>\n",
       "      <td>2.075802e+06</td>\n",
       "      <td>35375.340278</td>\n",
       "      <td>363.583333</td>\n",
       "      <td>38.756944</td>\n",
       "      <td>24.625000</td>\n",
       "      <td>5.828125e+05</td>\n",
       "      <td>3.369578e+05</td>\n",
       "      <td>2.947455e+05</td>\n",
       "      <td>8.685363e+05</td>\n",
       "      <td>7.341790e+04</td>\n",
       "      <td>1.854460e+05</td>\n",
       "      <td>702.611111</td>\n",
       "      <td>1238.555556</td>\n",
       "      <td>2.256543e+06</td>\n",
       "      <td>2.909786e+06</td>\n",
       "    </tr>\n",
       "    <tr>\n",
       "      <th>std</th>\n",
       "      <td>1.233155e+06</td>\n",
       "      <td>7.541013e+05</td>\n",
       "      <td>6.060111e+05</td>\n",
       "      <td>31300.575144</td>\n",
       "      <td>4.795513e+06</td>\n",
       "      <td>45309.303038</td>\n",
       "      <td>1450.675239</td>\n",
       "      <td>74.276769</td>\n",
       "      <td>79.778266</td>\n",
       "      <td>6.794472e+06</td>\n",
       "      <td>6.871826e+05</td>\n",
       "      <td>1.131325e+06</td>\n",
       "      <td>2.016572e+06</td>\n",
       "      <td>1.301983e+06</td>\n",
       "      <td>1.970421e+05</td>\n",
       "      <td>1077.290736</td>\n",
       "      <td>2237.564816</td>\n",
       "      <td>8.847189e+06</td>\n",
       "      <td>6.189018e+06</td>\n",
       "    </tr>\n",
       "    <tr>\n",
       "      <th>min</th>\n",
       "      <td>0.000000e+00</td>\n",
       "      <td>-1.025000e+05</td>\n",
       "      <td>-3.504386e+06</td>\n",
       "      <td>0.000000</td>\n",
       "      <td>0.000000e+00</td>\n",
       "      <td>0.000000</td>\n",
       "      <td>0.000000</td>\n",
       "      <td>0.000000</td>\n",
       "      <td>0.000000</td>\n",
       "      <td>0.000000e+00</td>\n",
       "      <td>0.000000e+00</td>\n",
       "      <td>0.000000e+00</td>\n",
       "      <td>-2.604490e+06</td>\n",
       "      <td>-1.787380e+06</td>\n",
       "      <td>0.000000e+00</td>\n",
       "      <td>0.000000</td>\n",
       "      <td>0.000000</td>\n",
       "      <td>0.000000e+00</td>\n",
       "      <td>-4.409300e+04</td>\n",
       "    </tr>\n",
       "    <tr>\n",
       "      <th>25%</th>\n",
       "      <td>0.000000e+00</td>\n",
       "      <td>0.000000e+00</td>\n",
       "      <td>-3.708600e+04</td>\n",
       "      <td>0.000000</td>\n",
       "      <td>0.000000e+00</td>\n",
       "      <td>0.000000</td>\n",
       "      <td>0.000000</td>\n",
       "      <td>0.000000</td>\n",
       "      <td>0.000000</td>\n",
       "      <td>0.000000e+00</td>\n",
       "      <td>0.000000e+00</td>\n",
       "      <td>0.000000e+00</td>\n",
       "      <td>2.434500e+04</td>\n",
       "      <td>0.000000e+00</td>\n",
       "      <td>0.000000e+00</td>\n",
       "      <td>0.000000</td>\n",
       "      <td>0.000000</td>\n",
       "      <td>9.019275e+04</td>\n",
       "      <td>2.443265e+05</td>\n",
       "    </tr>\n",
       "    <tr>\n",
       "      <th>50%</th>\n",
       "      <td>3.000000e+05</td>\n",
       "      <td>0.000000e+00</td>\n",
       "      <td>0.000000e+00</td>\n",
       "      <td>0.000000</td>\n",
       "      <td>6.082935e+05</td>\n",
       "      <td>20182.000000</td>\n",
       "      <td>17.500000</td>\n",
       "      <td>4.000000</td>\n",
       "      <td>0.000000</td>\n",
       "      <td>0.000000e+00</td>\n",
       "      <td>0.000000e+00</td>\n",
       "      <td>9.190000e+02</td>\n",
       "      <td>3.605280e+05</td>\n",
       "      <td>0.000000e+00</td>\n",
       "      <td>2.105960e+05</td>\n",
       "      <td>114.000000</td>\n",
       "      <td>347.500000</td>\n",
       "      <td>9.413595e+05</td>\n",
       "      <td>9.659550e+05</td>\n",
       "    </tr>\n",
       "    <tr>\n",
       "      <th>75%</th>\n",
       "      <td>8.000000e+05</td>\n",
       "      <td>8.535500e+03</td>\n",
       "      <td>0.000000e+00</td>\n",
       "      <td>0.000000</td>\n",
       "      <td>1.683580e+06</td>\n",
       "      <td>53328.250000</td>\n",
       "      <td>53.000000</td>\n",
       "      <td>41.250000</td>\n",
       "      <td>14.000000</td>\n",
       "      <td>0.000000e+00</td>\n",
       "      <td>3.745862e+05</td>\n",
       "      <td>1.485770e+05</td>\n",
       "      <td>7.374560e+05</td>\n",
       "      <td>0.000000e+00</td>\n",
       "      <td>2.696675e+05</td>\n",
       "      <td>933.750000</td>\n",
       "      <td>1623.000000</td>\n",
       "      <td>1.945668e+06</td>\n",
       "      <td>2.295176e+06</td>\n",
       "    </tr>\n",
       "    <tr>\n",
       "      <th>max</th>\n",
       "      <td>8.000000e+06</td>\n",
       "      <td>6.426990e+06</td>\n",
       "      <td>0.000000e+00</td>\n",
       "      <td>137864.000000</td>\n",
       "      <td>3.434838e+07</td>\n",
       "      <td>228763.000000</td>\n",
       "      <td>14368.000000</td>\n",
       "      <td>528.000000</td>\n",
       "      <td>609.000000</td>\n",
       "      <td>8.152500e+07</td>\n",
       "      <td>5.145434e+06</td>\n",
       "      <td>1.035973e+07</td>\n",
       "      <td>1.476169e+07</td>\n",
       "      <td>1.545629e+07</td>\n",
       "      <td>1.111258e+06</td>\n",
       "      <td>5521.000000</td>\n",
       "      <td>15149.000000</td>\n",
       "      <td>1.035598e+08</td>\n",
       "      <td>4.911008e+07</td>\n",
       "    </tr>\n",
       "  </tbody>\n",
       "</table>\n",
       "</div>"
      ],
      "text/plain": [
       "              bonus  deferral_payments  deferred_income  director_fees  \\\n",
       "count  1.440000e+02       1.440000e+02     1.440000e+02     144.000000   \n",
       "mean   6.759974e+05       2.220896e+05    -1.936833e+05    9980.319444   \n",
       "std    1.233155e+06       7.541013e+05     6.060111e+05   31300.575144   \n",
       "min    0.000000e+00      -1.025000e+05    -3.504386e+06       0.000000   \n",
       "25%    0.000000e+00       0.000000e+00    -3.708600e+04       0.000000   \n",
       "50%    3.000000e+05       0.000000e+00     0.000000e+00       0.000000   \n",
       "75%    8.000000e+05       8.535500e+03     0.000000e+00       0.000000   \n",
       "max    8.000000e+06       6.426990e+06     0.000000e+00  137864.000000   \n",
       "\n",
       "       exercised_stock_options       expenses  from_messages  \\\n",
       "count             1.440000e+02     144.000000     144.000000   \n",
       "mean              2.075802e+06   35375.340278     363.583333   \n",
       "std               4.795513e+06   45309.303038    1450.675239   \n",
       "min               0.000000e+00       0.000000       0.000000   \n",
       "25%               0.000000e+00       0.000000       0.000000   \n",
       "50%               6.082935e+05   20182.000000      17.500000   \n",
       "75%               1.683580e+06   53328.250000      53.000000   \n",
       "max               3.434838e+07  228763.000000   14368.000000   \n",
       "\n",
       "       from_poi_to_this_person  from_this_person_to_poi  loan_advances  \\\n",
       "count               144.000000               144.000000   1.440000e+02   \n",
       "mean                 38.756944                24.625000   5.828125e+05   \n",
       "std                  74.276769                79.778266   6.794472e+06   \n",
       "min                   0.000000                 0.000000   0.000000e+00   \n",
       "25%                   0.000000                 0.000000   0.000000e+00   \n",
       "50%                   4.000000                 0.000000   0.000000e+00   \n",
       "75%                  41.250000                14.000000   0.000000e+00   \n",
       "max                 528.000000               609.000000   8.152500e+07   \n",
       "\n",
       "       long_term_incentive         other  restricted_stock  \\\n",
       "count         1.440000e+02  1.440000e+02      1.440000e+02   \n",
       "mean          3.369578e+05  2.947455e+05      8.685363e+05   \n",
       "std           6.871826e+05  1.131325e+06      2.016572e+06   \n",
       "min           0.000000e+00  0.000000e+00     -2.604490e+06   \n",
       "25%           0.000000e+00  0.000000e+00      2.434500e+04   \n",
       "50%           0.000000e+00  9.190000e+02      3.605280e+05   \n",
       "75%           3.745862e+05  1.485770e+05      7.374560e+05   \n",
       "max           5.145434e+06  1.035973e+07      1.476169e+07   \n",
       "\n",
       "       restricted_stock_deferred        salary  shared_receipt_with_poi  \\\n",
       "count               1.440000e+02  1.440000e+02               144.000000   \n",
       "mean                7.341790e+04  1.854460e+05               702.611111   \n",
       "std                 1.301983e+06  1.970421e+05              1077.290736   \n",
       "min                -1.787380e+06  0.000000e+00                 0.000000   \n",
       "25%                 0.000000e+00  0.000000e+00                 0.000000   \n",
       "50%                 0.000000e+00  2.105960e+05               114.000000   \n",
       "75%                 0.000000e+00  2.696675e+05               933.750000   \n",
       "max                 1.545629e+07  1.111258e+06              5521.000000   \n",
       "\n",
       "        to_messages  total_payments  total_stock_value  \n",
       "count    144.000000    1.440000e+02       1.440000e+02  \n",
       "mean    1238.555556    2.256543e+06       2.909786e+06  \n",
       "std     2237.564816    8.847189e+06       6.189018e+06  \n",
       "min        0.000000    0.000000e+00      -4.409300e+04  \n",
       "25%        0.000000    9.019275e+04       2.443265e+05  \n",
       "50%      347.500000    9.413595e+05       9.659550e+05  \n",
       "75%     1623.000000    1.945668e+06       2.295176e+06  \n",
       "max    15149.000000    1.035598e+08       4.911008e+07  "
      ]
     },
     "execution_count": 512,
     "metadata": {},
     "output_type": "execute_result"
    }
   ],
   "source": [
    "#Making dataframes in pandas one for the keys and one for the values\n",
    "\n",
    "df_values = pd.DataFrame.from_records(list(data_dict.values()))\n",
    "df_values.head()\n",
    "\n",
    "df_persons = pd.Series(list(data_dict.keys()))\n",
    "df_persons.head()\n",
    "\n",
    "#We see lot's of NaN values. So we have to take care of that. We will convert them to numpy nan and then to zero.\n",
    "df_values.replace(to_replace='NaN', value=np.nan, inplace=True)\n",
    "\n",
    "# Count number of NaN's for columns\n",
    "print df_values.isnull().sum()\n",
    "\n",
    "# DataFrame dimension\n",
    "print df_values.shape\n",
    "\n",
    "\n",
    "df_null = df_values.replace(to_replace=np.nan, value=0)\n",
    "df_null = df_values.fillna(0).copy(deep=True)\n",
    "df_null.columns = list(df_values.columns.values)\n",
    "print df_null.isnull().sum()\n",
    "print df_null.head()\n",
    "\n",
    "df_null.describe()\n"
   ]
  },
  {
   "cell_type": "markdown",
   "metadata": {},
   "source": [
    "## Feature selection\n",
    "\n",
    "For selecting the best features I am going to use SelectKBest method from scikit-learn. And then, I would use recursive feature selection to find a good indication of the number of relevant features and how the cross validation score varies with the increase in number of features. But before using SelectKBest, I am going to perform a few tasks. First of all I am just going to see the accuracy, precision score and the recall score of the features as they exist now using Decision Tree. The selection of Decision tree is not random. As I have already gone through one cycle, I know that Decision tree will be one of the best algorithms for fitting my model. Then I am going to perform feature engineering and create some new features and add them to the features list and take the accuracy, precision score and the recall score of the features list with these new features added to see the difference between the old features list and this new features list after newly added features. After that I plan to make it a half manual iterative process. That is, add all possible best features and then remove them one by one using the score values and human intuition. So in essence this will be a cyclic process. The recursive feature selection will help us big time to find a optimum K value to increase our model efficiency. Before building the classifier, I will also scale all features using a min-max scaler. This was vitally important, as the features had different units (e.g. # of email messages and USD) and varied significantly by several orders of magnitude."
   ]
  },
  {
   "cell_type": "markdown",
   "metadata": {},
   "source": [
    "## Classifier's Result before Feature Engineering"
   ]
  },
  {
   "cell_type": "code",
   "execution_count": 513,
   "metadata": {},
   "outputs": [
    {
     "name": "stdout",
     "output_type": "stream",
     "text": [
      "Decision Tree Classifier: \n",
      "Accuracy: 0.837209302326\n",
      "Precision Score: 0.0\n",
      "Recall Score: 0.0\n"
     ]
    }
   ],
   "source": [
    "data = featureFormat(my_dataset, features_list, sort_keys = True)\n",
    "labels, features = targetFeatureSplit(data)\n",
    "scaler = preprocessing.MinMaxScaler()\n",
    "features = scaler.fit_transform(features)\n",
    "features_train,features_test,labels_train,labels_test = cross_validation.train_test_split(features,labels, test_size=0.3, \n",
    "                                                                                          random_state=42)\n",
    "clf = DecisionTreeClassifier(max_depth = 5)\n",
    "clf.fit(features_train,labels_train)\n",
    "pred = clf.predict(features_test)\n",
    "from sklearn.metrics import accuracy_score\n",
    "accuracy = accuracy_score(labels_test,pred)\n",
    "print(\"Decision Tree Classifier: \")\n",
    "print \"Accuracy: \" + str(accuracy)\n",
    "print \"Precision Score: \" + str(precision_score(labels_test,pred))\n",
    "print \"Recall Score: \" + str(recall_score(labels_test,pred))"
   ]
  },
  {
   "cell_type": "markdown",
   "metadata": {},
   "source": [
    "So we see before any feature engineering, our Decision Tree classifier is giving us an accuracy of 83.72% with Precision score and Recall Scores of 0.25 and 0.2 respectively"
   ]
  },
  {
   "cell_type": "markdown",
   "metadata": {},
   "source": [
    "## Feature Engineering\n",
    "\n",
    "Now let's add some new features of interest to the list of the features. I will make a function to do that. "
   ]
  },
  {
   "cell_type": "code",
   "execution_count": 514,
   "metadata": {},
   "outputs": [
    {
     "name": "stdout",
     "output_type": "stream",
     "text": [
      "['poi', 'salary', 'to_messages', 'deferral_payments', 'total_payments', 'loan_advances', 'bonus', 'restricted_stock_deferred', 'deferred_income', 'total_stock_value', 'expenses', 'from_poi_to_this_person', 'exercised_stock_options', 'from_messages', 'other', 'from_this_person_to_poi', 'long_term_incentive', 'shared_receipt_with_poi', 'restricted_stock', 'director_fees', 'poi_ratio', 'fraction_to_poi', 'fraction_from_poi']\n"
     ]
    }
   ],
   "source": [
    "def add_poi_ratio(data_dict, features_list):\n",
    "    \"\"\" mutates data dict to add proportion of email interaction with pois \"\"\"\n",
    "    fields = ['to_messages', 'from_messages',\n",
    "              'from_poi_to_this_person', 'from_this_person_to_poi']\n",
    "    for record in data_dict:\n",
    "        person = data_dict[record]\n",
    "        is_valid = True\n",
    "        for field in fields:\n",
    "            if person[field] == 'NaN':\n",
    "                is_valid = False\n",
    "        if is_valid:\n",
    "            total_messages = person['to_messages'] +\\\n",
    "                             person['from_messages']\n",
    "            poi_messages = person['from_poi_to_this_person'] +\\\n",
    "                           person['from_this_person_to_poi']\n",
    "            person['poi_ratio'] = float(poi_messages) / total_messages\n",
    "        else:\n",
    "            person['poi_ratio'] = 'NaN'\n",
    "    features_list += ['poi_ratio']\n",
    "\n",
    "\n",
    "\n",
    "def add_fraction_to_poi(data_dict, features_list):\n",
    "    \"\"\" mutates data dict to add proportion of email fraction_to_poi \"\"\"\n",
    "    fields = ['from_messages', 'from_this_person_to_poi']\n",
    "    for record in data_dict:\n",
    "        person = data_dict[record]\n",
    "        is_valid = True\n",
    "        for field in fields:\n",
    "            if person[field] == 'NaN':\n",
    "                is_valid = False\n",
    "        if is_valid:\n",
    "            total_messages = person['from_messages']\n",
    "            poi_messages =   person['from_this_person_to_poi']\n",
    "            person['fraction_to_poi'] = float(poi_messages) / total_messages\n",
    "        else:\n",
    "            person['fraction_to_poi'] = 'NaN'\n",
    "    features_list += ['fraction_to_poi']\n",
    "\n",
    "\n",
    "def add_fraction_from_poi(data_dict, features_list):\n",
    "    \"\"\" mutates data dict to add proportion of email fraction_from_poi \"\"\"\n",
    "    fields = ['to_messages', 'from_poi_to_this_person']\n",
    "    for record in data_dict:\n",
    "        person = data_dict[record]\n",
    "        is_valid = True\n",
    "        for field in fields:\n",
    "            if person[field] == 'NaN':\n",
    "                is_valid = False\n",
    "        if is_valid:\n",
    "            total_messages = person['to_messages']\n",
    "            poi_messages =   person['from_poi_to_this_person']\n",
    "            person['fraction_from_poi'] = float(poi_messages) / total_messages\n",
    "        else:\n",
    "            person['fraction_from_poi'] = 'NaN'\n",
    "    features_list += ['fraction_from_poi']\n",
    "\n",
    "\n",
    "\n",
    "#Adding them to the features list\n",
    "add_poi_ratio(data_dict, my_feature_list)\n",
    "add_fraction_to_poi(data_dict, my_feature_list)\n",
    "add_fraction_from_poi(data_dict, my_feature_list)\n",
    "print my_feature_list"
   ]
  },
  {
   "cell_type": "markdown",
   "metadata": {},
   "source": [
    "## Classifier's Result after Feature Engineering"
   ]
  },
  {
   "cell_type": "code",
   "execution_count": 515,
   "metadata": {},
   "outputs": [
    {
     "name": "stdout",
     "output_type": "stream",
     "text": [
      "Decision Tree Classifier: \n",
      "Accuracy: 0.860465116279\n",
      "Precision Score: 0.333333333333\n",
      "Recall Score: 0.2\n"
     ]
    }
   ],
   "source": [
    "data = featureFormat(my_dataset, features_list, sort_keys = True)\n",
    "labels, features = targetFeatureSplit(data)\n",
    "scaler = preprocessing.MinMaxScaler()\n",
    "features = scaler.fit_transform(features)\n",
    "features_train,features_test,labels_train,labels_test = cross_validation.train_test_split(features,labels, test_size=0.3, \n",
    "                                                                                          random_state=42)\n",
    "clf = DecisionTreeClassifier(max_depth = 5)\n",
    "clf.fit(features_train,labels_train)\n",
    "pred = clf.predict(features_test)\n",
    "from sklearn.metrics import accuracy_score\n",
    "accuracy = accuracy_score(labels_test,pred)\n",
    "print(\"Decision Tree Classifier: \")\n",
    "print \"Accuracy: \" + str(accuracy)\n",
    "print \"Precision Score: \" + str(precision_score(labels_test,pred))\n",
    "print \"Recall Score: \" + str(recall_score(labels_test,pred))"
   ]
  },
  {
   "cell_type": "markdown",
   "metadata": {},
   "source": [
    "So we see after the feature engineering of three new features, our Decision Tree classifier is giving us an accuracy of 86.04% with both precision score and recall score of 0.400."
   ]
  },
  {
   "cell_type": "markdown",
   "metadata": {},
   "source": [
    "So now I will use SelectKBest algorithm to rank the features in order to find the most effective features. First I put all the possible features into features_list and then started deleting them one by one using score value and human intuition. I started with all features initially. But when I ran the recursive feature selection to find a good indication of the number of relevant features and how the cross validation score varies with the increase in number of features, I saw that there was a peak at around 7. So in this 2nd cycle, we will use a value of 7 for k."
   ]
  },
  {
   "cell_type": "code",
   "execution_count": 516,
   "metadata": {},
   "outputs": [
    {
     "name": "stdout",
     "output_type": "stream",
     "text": [
      "7 best features: ['salary', 'bonus', 'total_stock_value', 'fraction_to_poi', 'exercised_stock_options', 'deferred_income', 'long_term_incentive']\n",
      "\n",
      "{'salary': 18.289684043404513, 'bonus': 20.792252047181535, 'total_stock_value': 24.182898678566879, 'fraction_to_poi': 16.409712548035799, 'exercised_stock_options': 24.815079733218194, 'deferred_income': 11.458476579280369, 'long_term_incentive': 9.9221860131898225}\n",
      "{'salary': 18.289684043404513, 'bonus': 20.792252047181535, 'total_stock_value': 24.182898678566879, 'fraction_to_poi': 16.409712548035799, 'exercised_stock_options': 24.815079733218194, 'deferred_income': 11.458476579280369, 'long_term_incentive': 9.9221860131898225}\n",
      "7 selected features: ['salary', 'bonus', 'total_stock_value', 'fraction_to_poi', 'exercised_stock_options', 'deferred_income', 'long_term_incentive']\n",
      "\n"
     ]
    }
   ],
   "source": [
    "def get_k_best(enron_data, features_list, k):\n",
    "    \"\"\" runs scikit-learn's SelectKBest feature selection\n",
    "        returns dict where keys=features, values=scores\n",
    "    \"\"\"\n",
    "    data = featureFormat(data_dict, features_list)\n",
    "    labels, features = targetFeatureSplit(data)\n",
    "\n",
    "    k_best = SelectKBest(k=k)\n",
    "    k_best.fit(features, labels)\n",
    "    scores = k_best.scores_\n",
    "    unsorted_pairs = zip(features_list[1:], scores)\n",
    "    sorted_pairs = list(reversed(sorted(unsorted_pairs, key=lambda x: x[1])))\n",
    "    k_best_features = dict(sorted_pairs[:k])\n",
    "    print \"{0} best features: {1}\\n\".format(k, k_best_features.keys())\n",
    "    print k_best_features\n",
    "    return k_best_features\n",
    "\n",
    "target_label = 'poi'\n",
    "num_features = 7 # 11 best features\n",
    "top_features = get_k_best(data_dict, features_list, num_features)\n",
    "print top_features\n",
    "my_feature_list = [target_label] + top_features.keys()\n",
    "# print my_feature_list\n",
    "\n",
    "print \"{0} selected features: {1}\\n\".format(len(my_feature_list) - 1, my_feature_list[1:])\n",
    "\n",
    "features_list = my_feature_list"
   ]
  },
  {
   "cell_type": "markdown",
   "metadata": {},
   "source": [
    "## Validity of SelectKBest\n",
    "\n",
    "Using these sets of features gave me an accuracy of around 71.43% in the first cycle, and the precision and the recall score remained very low(0.2 and 0.333 respectively) which are the more vital metrices for this specific project even more than the accuracy. This is because in this specific dataset, only 18 POIs are present. Originally there were 35 POIs. But for some reason half of them is not present in this dataset. So accuracy cannot be depended on very much for this dataset and thus we have to depend heavily on the precision and the recall score.\n",
    "\n",
    "So after much manual intervention and going back and forth, I selected the following features to be the final features as these are informations directly related to the POIs and hence not very open to interpretation even to machines. So a high value of fraction_from_poi may indicate that the person receiving those emails may be a POI himself or even in the executive board. Same logic goes for fraction_to_poi and shared_receipt_with_poi. These features were not selected at random but after extensive manual testing.\n",
    "\n",
    "1. fraction_from_poi\n",
    "2. fraction_to_poi\n",
    "3. shared_receipt_with_poi"
   ]
  },
  {
   "cell_type": "code",
   "execution_count": 517,
   "metadata": {},
   "outputs": [],
   "source": [
    "features_list = [\"poi\", \"fraction_from_poi\", \"fraction_to_poi\", \"shared_receipt_with_poi\"]"
   ]
  },
  {
   "cell_type": "markdown",
   "metadata": {},
   "source": [
    "## What features did I end up using in your POI identifier, and what selection process did I use to pick them? Did I have to do any scaling? Why or why not?\n",
    "\n",
    "In this project, first I used scikit-learn's SelectKBest module to get the 7 best features among the 21 features present. This was because in the recursive feature selection, I saw a peak at around 7 for the features vs cross validation score. But this had to be a half manual iterative process as the dataset is very skewed towards non POIs and only 18 POIs were there in the dataset. So when I was using the 7 features suggested by SelectKBest algorithm, I was getting an accuracy of only ~72% with very low precision and recall score (0.2 and 0.333 respectively). In the below table you can see the top 7 features along with their scores. The K-best approach is an automated univariate feature selection algorithm, and in using it, I was concerned with the lack of email features in the resulting dataset. Thus, I engineered three features, poi_ratio, fraction_to_poi and fraction_from_poi which were the proportion of email interaction with POIs, proportion of email fraction to POIs and proportion of email fraction from POIs. So here we mutate our original data dictionary and add these new features to the features' list. The scores of the 7 best features selected by K-best approach is given below. Apart from these 7 features, I also added 3 more features regarding emails: ** 'poi_ratio', 'fraction_to_poi' and 'fraction_from_poi' ** .\n",
    "\n",
    "1. exercised_stock_options: 24.815079733218194\n",
    "2. total_stock_value: 24.182898678566879\n",
    "3. bonus: 20.792252047181535\n",
    "4. salary: 18.289684043404513\n",
    "5. fraction_to_poi: 16.409712548035799\n",
    "6. deferred_income: 11.458476579280369\n",
    "7. long_term_incentive: 9.9221860131898225\n",
    "\n",
    "After much iterative manual testing with different combinations of the features and trying out by deleting them one at a time, I finally came up with these 4 features to be used as my final features list:\n",
    "\n",
    "** 1. ** fraction_from_poi\n",
    "\n",
    "** 2. ** fraction_to_poi\n",
    "\n",
    "** 3. ** shared_receipt_with_poi\n",
    "\n",
    "\n",
    "Before training the machine learning algorithm classifiers, I scaled all features using a min-max scaler. This was vitally important, as the features had different units and varied significantly by several orders of magnitude. Feature-scaling ensured that for the applicable classifiers, the features would be weighted evenly. Only after this step, I split my data into training and testing set."
   ]
  },
  {
   "cell_type": "markdown",
   "metadata": {},
   "source": [
    "## Extract features and labels from dataset for local testing"
   ]
  },
  {
   "cell_type": "code",
   "execution_count": 518,
   "metadata": {},
   "outputs": [],
   "source": [
    "data = featureFormat(my_dataset, features_list, sort_keys = True)\n",
    "labels, features = targetFeatureSplit(data)"
   ]
  },
  {
   "cell_type": "markdown",
   "metadata": {},
   "source": [
    "## Scaling the features by MinMaxScaler from Sklearn preprocessing module"
   ]
  },
  {
   "cell_type": "code",
   "execution_count": 519,
   "metadata": {
    "collapsed": true
   },
   "outputs": [],
   "source": [
    "scaler = preprocessing.MinMaxScaler()\n",
    "features = scaler.fit_transform(features)"
   ]
  },
  {
   "cell_type": "markdown",
   "metadata": {},
   "source": [
    "## Splitting the data into train data(70%) and test data(30%)"
   ]
  },
  {
   "cell_type": "code",
   "execution_count": 520,
   "metadata": {
    "collapsed": true
   },
   "outputs": [],
   "source": [
    "features_train,features_test,labels_train,labels_test = cross_validation.train_test_split(features,labels, test_size=0.3, \n",
    "                                                                                          random_state=42)"
   ]
  },
  {
   "cell_type": "markdown",
   "metadata": {},
   "source": [
    "## Using different Machine Learning Classifiers\n",
    "\n",
    "We will iterate through variety of classifiers to see which one's prediction is the best."
   ]
  },
  {
   "cell_type": "markdown",
   "metadata": {},
   "source": [
    "## Decision Tree Classifier"
   ]
  },
  {
   "cell_type": "code",
   "execution_count": 521,
   "metadata": {},
   "outputs": [
    {
     "name": "stdout",
     "output_type": "stream",
     "text": [
      "Decision Tree Classifier: \n",
      "Accuracy: 0.961538461538\n",
      "Precision Score: 1.0\n",
      "Recall Score: 0.5\n"
     ]
    }
   ],
   "source": [
    "clf = DecisionTreeClassifier(max_depth = 5)\n",
    "clf.fit(features_train,labels_train)\n",
    "pred = clf.predict(features_test)\n",
    "from sklearn.metrics import accuracy_score\n",
    "accuracy = accuracy_score(labels_test,pred)\n",
    "print(\"Decision Tree Classifier: \")\n",
    "print \"Accuracy: \" + str(accuracy)\n",
    "print \"Precision Score: \" + str(precision_score(labels_test,pred))\n",
    "print \"Recall Score: \" + str(recall_score(labels_test,pred))"
   ]
  },
  {
   "cell_type": "markdown",
   "metadata": {},
   "source": [
    "## Naive Bayes Classifier"
   ]
  },
  {
   "cell_type": "code",
   "execution_count": 522,
   "metadata": {},
   "outputs": [
    {
     "name": "stdout",
     "output_type": "stream",
     "text": [
      "Naive Bayes Classifier: \n",
      "Accuracy: 0.923076923077\n",
      "Precision Score: 0.0\n",
      "Recall Score: 0.0\n"
     ]
    }
   ],
   "source": [
    "clf = GaussianNB()\n",
    "clf.fit(features_train,labels_train)\n",
    "pred = clf.predict(features_test)\n",
    "from sklearn.metrics import accuracy_score\n",
    "accuracy = accuracy_score(labels_test,pred)\n",
    "print(\"Naive Bayes Classifier: \")\n",
    "print \"Accuracy: \" + str(accuracy)\n",
    "print \"Precision Score: \" + str(precision_score(labels_test,pred))\n",
    "print \"Recall Score: \" + str(recall_score(labels_test,pred))"
   ]
  },
  {
   "cell_type": "markdown",
   "metadata": {},
   "source": [
    "## AdaBoost Classifier"
   ]
  },
  {
   "cell_type": "code",
   "execution_count": 523,
   "metadata": {},
   "outputs": [
    {
     "name": "stdout",
     "output_type": "stream",
     "text": [
      "Adaboost Classifier: \n",
      "Accuracy: 0.961538461538\n",
      "Precision Score: 1.0\n",
      "Recall Score: 0.5\n"
     ]
    }
   ],
   "source": [
    "clf = AdaBoostClassifier()\n",
    "clf.fit(features_train,labels_train)\n",
    "pred = clf.predict(features_test)\n",
    "from sklearn.metrics import accuracy_score\n",
    "accuracy = accuracy_score(labels_test,pred)\n",
    "print(\"Adaboost Classifier: \")\n",
    "print \"Accuracy: \" + str(accuracy)\n",
    "print \"Precision Score: \" + str(precision_score(labels_test,pred))\n",
    "print \"Recall Score: \" + str(recall_score(labels_test,pred))"
   ]
  },
  {
   "cell_type": "markdown",
   "metadata": {},
   "source": [
    "## Standard Vector Machine (rbf) Classifier"
   ]
  },
  {
   "cell_type": "code",
   "execution_count": 524,
   "metadata": {},
   "outputs": [
    {
     "name": "stdout",
     "output_type": "stream",
     "text": [
      "SVM Classifier: \n",
      "Accuracy: 0.923076923077\n",
      "Precision Score: 0.0\n",
      "Recall Score: 0.0\n"
     ]
    }
   ],
   "source": [
    "clf = SVC(gamma=3, C=2)\n",
    "clf.fit(features_train,labels_train)\n",
    "pred = clf.predict(features_test)\n",
    "from sklearn.metrics import accuracy_score\n",
    "accuracy = accuracy_score(labels_test,pred)\n",
    "print(\"SVM Classifier: \")\n",
    "print \"Accuracy: \" + str(accuracy)\n",
    "print \"Precision Score: \" + str(precision_score(labels_test,pred))\n",
    "print \"Recall Score: \" + str(recall_score(labels_test,pred))"
   ]
  },
  {
   "cell_type": "markdown",
   "metadata": {},
   "source": [
    "## K Nearest Neighbours Classifier"
   ]
  },
  {
   "cell_type": "code",
   "execution_count": 525,
   "metadata": {},
   "outputs": [
    {
     "name": "stdout",
     "output_type": "stream",
     "text": [
      "kNN Classifier: \n",
      "Accuracy: 0.846153846154\n",
      "Precision Score: 0.0\n",
      "Recall Score: 0.0\n"
     ]
    }
   ],
   "source": [
    "clf = KNeighborsClassifier(3)\n",
    "clf.fit(features_train,labels_train)\n",
    "pred = clf.predict(features_test)\n",
    "from sklearn.metrics import accuracy_score\n",
    "accuracy = accuracy_score(labels_test,pred)\n",
    "print(\"kNN Classifier: \")\n",
    "print \"Accuracy: \" + str(accuracy)\n",
    "print \"Precision Score: \" + str(precision_score(labels_test,pred))\n",
    "print \"Recall Score: \" + str(recall_score(labels_test,pred))"
   ]
  },
  {
   "cell_type": "markdown",
   "metadata": {},
   "source": [
    "## What algorithm did I end up using? What other one(s) did I try? How did model performance differ between algorithms?\n",
    "\n",
    "I used Decision Tree Classifier to predict the possible POIs in the dataset. The main motivation for me behind using this classifier was that the Nonlinear relationships between parameters do not affect tree performance and Decision trees implicitly perform variable screening or feature selection. I also noticed that this was one of the classifiers which was giving one of the highest accuracies. Apart from Decision trees, I also tried fitting the train data and predict the test data with Naive Bayes, Adaboost, K Nearest Neighbours and Standard Vector Machine classifiers. Adaboost gave almost as high precision metrices as decision trees. Naive Bayes and SVM also gave higher accuracy scores around 92-93% but the precision and the recall score of SVM was zero. With Decision trees, at this point I was getting an accuracy score around 96.15% with a precision score of 1 and recall score of 0.500. Given below are the precision metrices for all the algorithms I tried.\n",
    "\n",
    "** 1. Decision Tree **\n",
    " \n",
    " a) Accuracy - 96.153%\n",
    "  \n",
    " b) Precision Score - 1\n",
    "  \n",
    " c) Recall Score - 0.500\n",
    "  \n",
    "   \n",
    "** 2. Naive Bayes **\n",
    "\n",
    " a) Accuracy: 92.31%\n",
    "  \n",
    " b) Precision Score: 0\n",
    "  \n",
    " c) Recall Score: 0\n",
    " \n",
    "** 4. Adaboost **\n",
    "\n",
    " a) Accuracy: 96.153%\n",
    " \n",
    " b) Precision Score: 1\n",
    " \n",
    " c) Recall Score: 0.5\n",
    " \n",
    "** 5. Standard Vector Machine **\n",
    "\n",
    " a) Accuracy: 92.31%\n",
    " \n",
    " b) Precision Score: 0\n",
    " \n",
    " c) Recall Score: 0\n",
    " \n",
    "** 6. K nearest neighbours **\n",
    "\n",
    " a) Accuracy: 84.62%\n",
    " \n",
    " b) Precision Score: 0\n",
    " \n",
    " c) Recall Score: 0"
   ]
  },
  {
   "cell_type": "markdown",
   "metadata": {},
   "source": [
    "## What does it mean to tune the parameters of an algorithm, and what can happen if I don’t do this well?  How did I tune the parameters of your particular algorithm? What parameters did I tune?\n",
    "\n",
    "Parameter tuning for any algorithm in Machine Learning is a vital step. Our goal, is usually to set the parameters for the algorithm used to get optimal values that enable us to complete a learning task in the best way possible. Thus, tuning an algorithm or machine learning technique, can be simply thought of as process which one goes through in which they optimize the parameters that impact the model in order to enable the algorithm to perform the best (once, of course we have defined what \"best\" actual is).\n",
    "\n",
    "With our dataset accuracy is not quite meaningful because of the disproportion among classes. So here, we are more interested in the precision score and the recall score metrices. Before tuning my algorithm, the values precision score was 1 and the recall score was 0.500 with an accuracy of 96.15%. Maybe this high value was caused by some overfitting. I tuned my Decision Tree Classifier model with GridSearchCV and validated the using Stratified Shuffle Split and Cross Validation with my customized scoring function to put a threshold for both precision_score and the recall_score. The parameters which I tuned were max_depth, min_samples_split, min_samples_leaf and criterion. The final accuracy I got after tuning my model ranged between 87-89% with a precision score around 0.433 and the recall score of 0.822."
   ]
  },
  {
   "cell_type": "code",
   "execution_count": 526,
   "metadata": {
    "collapsed": true
   },
   "outputs": [],
   "source": [
    "from sklearn import grid_search\n",
    "from sklearn.metrics import f1_score"
   ]
  },
  {
   "cell_type": "code",
   "execution_count": 527,
   "metadata": {
    "collapsed": true
   },
   "outputs": [],
   "source": [
    "cv = cross_validation.StratifiedShuffleSplit(labels, n_iter=10)\n",
    "\n",
    "\n",
    "def scoring(estimator, features_test, labels_test):\n",
    "    labels_pred = estimator.predict(features_test)\n",
    "    p = precision_score(labels_test, labels_pred, average='micro')\n",
    "    r = recall_score(labels_test, labels_pred, average='micro')\n",
    "    if p > 0.3 and r > 0.3:\n",
    "        return f1_score(labels_test, labels_pred, average='macro')\n",
    "    return 0\n"
   ]
  },
  {
   "cell_type": "markdown",
   "metadata": {},
   "source": [
    "## Recursive Feature Selection"
   ]
  },
  {
   "cell_type": "code",
   "execution_count": 528,
   "metadata": {},
   "outputs": [
    {
     "name": "stdout",
     "output_type": "stream",
     "text": [
      "Optimal number of features : 3\n",
      "[ True  True  True]\n"
     ]
    },
    {
     "data": {
      "image/png": "[encoded data removed]",
      "text/plain": [
       "<matplotlib.figure.Figure at 0xcc3e0b8>"
      ]
     },
     "metadata": {},
     "output_type": "display_data"
    }
   ],
   "source": [
    "import matplotlib.pyplot as plt\n",
    "from sklearn.svm import SVC\n",
    "from sklearn.cross_validation import StratifiedKFold\n",
    "from sklearn.feature_selection import RFECV\n",
    "clf = DecisionTreeClassifier(max_depth = 5)\n",
    "rfecv = RFECV(estimator=clf, step=1, cv=StratifiedKFold(labels, 50),\n",
    "          scoring='precision')\n",
    "rfecv.fit(features, labels)\n",
    "print(\"Optimal number of features : %d\" % rfecv.n_features_)\n",
    "print rfecv.support_\n",
    "features=features[:,rfecv.support_]\n",
    "# Plot number of features VS. cross-validation scores\n",
    "plt.figure()\n",
    "plt.xlabel(\"Number of features selected\")\n",
    "plt.ylabel(\"Cross validation score (nb of correct classifications)\")\n",
    "plt.plot(range(1, len(rfecv.grid_scores_) + 1), rfecv.grid_scores_)\n",
    "plt.show()"
   ]
  },
  {
   "cell_type": "markdown",
   "metadata": {},
   "source": [
    "## Decision Tree Classifier Tuning"
   ]
  },
  {
   "cell_type": "code",
   "execution_count": 534,
   "metadata": {},
   "outputs": [
    {
     "name": "stdout",
     "output_type": "stream",
     "text": [
      "DecisionTreeClassifier(class_weight=None, criterion='entropy', max_depth=2,\n",
      "            max_features=None, max_leaf_nodes=None,\n",
      "            min_impurity_split=1e-07, min_samples_leaf=8,\n",
      "            min_samples_split=3, min_weight_fraction_leaf=0.0,\n",
      "            presort=False, random_state=None, splitter='best')\n",
      "0.887857142857\n",
      "Processing time: 112.183 s\n"
     ]
    }
   ],
   "source": [
    "t0 = time()\n",
    "parameters = {'max_depth': [1, 2, 3, 4, 5, 6, 8, 9, 10], 'min_samples_split':[2,3,4,5,6,7,8,9,10],\n",
    "              'min_samples_leaf': [1, 2, 3, 4, 5, 6, 7, 8], 'criterion': ('gini', 'entropy')}\n",
    "\n",
    "decTree_clf = DecisionTreeClassifier()\n",
    "decTreeclf = grid_search.GridSearchCV(decTree_clf, parameters, scoring=scoring, cv=cv)\n",
    "\n",
    "decTreeclf.fit(features, labels)\n",
    "print decTreeclf.best_estimator_\n",
    "print decTreeclf.best_score_\n",
    "print 'Processing time:', round(time() - t0, 3), 's'"
   ]
  },
  {
   "cell_type": "markdown",
   "metadata": {},
   "source": [
    "## What is validation, and what’s a classic mistake you can make if I do it wrong? How did I validate my analysis?\n",
    "\n",
    "In machine learning, model validation is referred to as the process where a trained model is evaluated with a testing data set. The testing data set is a separate portion of the same data set from which the training set is derived. The main purpose of using the testing data set is to test the generalization ability of a trained model. Validation is performed to ensure that a machine learning algorithm generalizes well. A classic mistake is over-fitting, where the model is trained and performs very well on the training dataset, but markedly worse on the cross-validation and test datasets. I utilized two methods for validating the analysis:\n",
    "\n",
    "1. ** StratifiedShuffleSplit, folds = 1000 : ** The main reason why I used Startified Shuffle Split as a validation method was that the dataset was small and skewed towards non-POI. I needed a technique that accounts for that. Otherwise the risk is that in the validation phase, we would not be able to assess the real potential of our algorithm in terms of performance metrics. The chance of randomly splitting skewed and non representative validation sub-sets could be high, therefore the need to use stratification (preservation of the percentage of samples for each class) to achieve robustness in a dataset with the aforementioned limitations. I took the average precision an recall score of 1000 randomized trials with the help of test_classifier function. This data was subset into training and testing set in a 3:1 ratio.\n",
    "\n",
    "2. ** Cross Validation: ** Cross Validation is a technique which involves reserving a particular sample of a data set on which you do not train the model. Later, you test the model on this sample before finalizing the model. Here I did a cross validation on the data by splitting the data, fitting a model and computing the score 5 consecutive times (with different splits each time). I used 'accuracy' as a scorer object."
   ]
  },
  {
   "cell_type": "markdown",
   "metadata": {},
   "source": [
    "## Classifier Validation"
   ]
  },
  {
   "cell_type": "code",
   "execution_count": 535,
   "metadata": {},
   "outputs": [
    {
     "name": "stdout",
     "output_type": "stream",
     "text": [
      "DecisionTreeClassifier(class_weight=None, criterion='entropy', max_depth=2,\n",
      "            max_features=None, max_leaf_nodes=None,\n",
      "            min_impurity_split=1e-07, min_samples_leaf=8,\n",
      "            min_samples_split=3, min_weight_fraction_leaf=0.0,\n",
      "            presort=False, random_state=None, splitter='best')\n",
      "\tAccuracy: 0.86056\tPrecision: 0.43286\tRecall: 0.82200\tF1: 0.56709\tF2: 0.69673\n",
      "\tTotal predictions: 9000\tTrue positives:  822\tFalse positives: 1077\tFalse negatives:  178\tTrue negatives: 6923\n",
      "\n",
      "Processing time: 2.276 s\n"
     ]
    }
   ],
   "source": [
    "##DecisionTreeClassifier Validation 1 (StratifiedShuffleSplit, folds = 1000)\n",
    "from tester import test_classifier\n",
    "t0 = time()\n",
    "decTree_best_clf = decTreeclf.best_estimator_\n",
    "test_classifier(decTree_best_clf, my_dataset, features_list)\n",
    "print 'Processing time:', round(time() - t0, 3), 's'"
   ]
  },
  {
   "cell_type": "code",
   "execution_count": 536,
   "metadata": {},
   "outputs": [
    {
     "name": "stdout",
     "output_type": "stream",
     "text": [
      "Accuracy and Deviation: (0.84738562091503267, 0.10525920072782949)\n",
      "Processing time: 0.052 s\n",
      "DecisionTreeClassifier(class_weight=None, criterion='entropy', max_depth=2,\n",
      "            max_features=None, max_leaf_nodes=None,\n",
      "            min_impurity_split=1e-07, min_samples_leaf=8,\n",
      "            min_samples_split=3, min_weight_fraction_leaf=0.0,\n",
      "            presort=False, random_state=None, splitter='best')\n",
      "\tAccuracy: 0.86056\tPrecision: 0.43286\tRecall: 0.82200\tF1: 0.56709\tF2: 0.69673\n",
      "\tTotal predictions: 9000\tTrue positives:  822\tFalse positives: 1077\tFalse negatives:  178\tTrue negatives: 6923\n",
      "\n"
     ]
    }
   ],
   "source": [
    "##DecisionTreeClassifier Validation 2  (Cross validation)\n",
    "\n",
    "from sklearn.model_selection import cross_val_score\n",
    "t0 = time()\n",
    "decTree_best_clf = decTreeclf.best_estimator_\n",
    "scores = cross_val_score(decTree_best_clf, features, labels, cv=5,scoring = 'accuracy')\n",
    "print(\"Accuracy and Deviation: \" + str((scores.mean(), scores.std() * 2)))\n",
    "print 'Processing time:', round(time() - t0, 3), 's'\n",
    "test_classifier(decTree_best_clf, my_dataset, features_list)"
   ]
  },
  {
   "cell_type": "markdown",
   "metadata": {},
   "source": [
    "## Give at least 2 evaluation metrics and the average performance for each of them.  Explain an interpretation of my metrics that says something human-understandable about my algorithm’s performance.\n",
    "\n",
    "The main evaluation metrics utilized were precision and recall. Precision captures the ratio of true positives to the records that are actually POIs, essentially describing how often 'false alarms' are (not) raised. Recall captures the ratio of true positives to the records flagged as POIs, which describes sensitivity. For the Decision tree algorithm which I used, following were the evaluation metrices for the two validations:\n",
    "\n",
    "** 1. StratifiedShuffleSplit **\n",
    "\n",
    " a) Precision: 0.50829\t\n",
    " \n",
    " b) Recall: 0.82200\n",
    "   \n",
    "** 2. Cross Validation **\n",
    "\n",
    " a) Precision: 0.50292\n",
    " \n",
    " b) Recall: 0.82200\n",
    "\n",
    "Both validations performed quite well given the fact that this dataset didn't contain plethora of data (very few POIs) and the data was noisy too. The recall score is very high. This is actually a good thing. The ratio of the false positives to true positives is much higher than the ratio of false negatives to true negatives. This is actually good for us because we would rather mark a person as POI who in reality is not a POI than not able to catch the Real POIs and marking them as False POIs. My argument here is even though we mark someone as a POI wrongly, he/she will still get through unscathed after investigation. But on the other hand, if we miss someone who is indeed guilty, then that person is just not facing the justice as he/she should have."
   ]
  },
  {
   "cell_type": "markdown",
   "metadata": {},
   "source": [
    "## Conclusion\n",
    "\n",
    "So we see by applying Stratified Shuffle Split to our Decision Tree Classifier, we are able to improve the performance metrices of our classifier. This dataset is a very sparse dataset where accuracy(almost 89% in our case) is not a good metrics given the fact it is very skewed towards non POIs. We only have 18 POIs in the dataset. Even though originally we had 36 POIs, somehow half of them are not present in this dataset. We have a high recall score(0.822) which is a good thing given how sparse this dataset is and where accuracy is not a good metrics to perform model quality. We also see that ratio of the false positives to true positives is much higher than the ratio of false negatives to true negatives. This is actually good for us because we would rather mark a person as POI who in reality is not a POI than not able to catch the Real POIs and marking them as False POIs. My argument here is even though we mark someone as a POI wrongly, he/she will still get through unscathed after investigation. But on the other hand, if we miss someone who is indeed guilty, then that person is just not facing the justice as he/she should have. \n",
    "\n",
    "These numbers are quite good but still we can improve the accuracy of the model. One of the possible ways is to dig into the actual email messages more. Then we can find a pattern of emails to/from a specific point instead of to/from POIs. We can also do text mining to make some vocabulary pattern emerge from this huge chunks of emails to get more behavioural patterns of the POIs. As we found out that the POI data was incomplete in our dataset, the next realistic thing to try might be to extract more data from the emails."
   ]
  }
 ],
 "metadata": {
  "kernelspec": {
   "display_name": "Python 2",
   "language": "python",
   "name": "python2"
  },
  "language_info": {
   "codemirror_mode": {
    "name": "ipython",
    "version": 2
   },
   "file_extension": ".py",
   "mimetype": "text/x-python",
   "name": "python",
   "nbconvert_exporter": "python",
   "pygments_lexer": "ipython2",
   "version": "2.7.13"
  }
 },
 "nbformat": 4,
 "nbformat_minor": 2
}
